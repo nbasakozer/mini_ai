{
 "cells": [
  {
   "cell_type": "markdown",
   "metadata": {},
   "source": [
    "##### Imports"
   ]
  },
  {
   "cell_type": "code",
   "execution_count": 1,
   "metadata": {},
   "outputs": [],
   "source": [
    "import os\n",
    "import sys\n",
    "import pandas as pd\n",
    "import matplotlib.pyplot as plt\n",
    "from sdv.single_table import CTGANSynthesizer\n",
    "from sdv.evaluation.single_table import run_diagnostic, evaluate_quality, get_column_plot, get_column_pair_plot\n",
    "from sdv.metadata import SingleTableMetadata"
   ]
  },
  {
   "cell_type": "markdown",
   "metadata": {},
   "source": [
    "##### Load dataset"
   ]
  },
  {
   "cell_type": "code",
   "execution_count": 2,
   "metadata": {},
   "outputs": [],
   "source": [
    "data = pd.read_csv(\"data/merged_df_file_rutgers.csv\")"
   ]
  },
  {
   "cell_type": "code",
   "execution_count": 3,
   "metadata": {},
   "outputs": [
    {
     "data": {
      "text/html": [
       "<div>\n",
       "<style scoped>\n",
       "    .dataframe tbody tr th:only-of-type {\n",
       "        vertical-align: middle;\n",
       "    }\n",
       "\n",
       "    .dataframe tbody tr th {\n",
       "        vertical-align: top;\n",
       "    }\n",
       "\n",
       "    .dataframe thead th {\n",
       "        text-align: right;\n",
       "    }\n",
       "</style>\n",
       "<table border=\"1\" class=\"dataframe\">\n",
       "  <thead>\n",
       "    <tr style=\"text-align: right;\">\n",
       "      <th></th>\n",
       "      <th>serverTimestamp</th>\n",
       "      <th>day_part_x</th>\n",
       "      <th>user_id</th>\n",
       "      <th>numberRating</th>\n",
       "      <th>highestRating</th>\n",
       "      <th>lowestRating</th>\n",
       "      <th>medianRating</th>\n",
       "      <th>sdRating</th>\n",
       "      <th>numberLowRating</th>\n",
       "      <th>numberMediumRating</th>\n",
       "      <th>numberHighRating</th>\n",
       "      <th>numberMessageReceived</th>\n",
       "      <th>numberMessageRead</th>\n",
       "      <th>readAllMessage</th>\n",
       "      <th>reward</th>\n",
       "      <th>timestamp</th>\n",
       "      <th>day_part_y</th>\n",
       "      <th>action</th>\n",
       "      <th>message</th>\n",
       "      <th>day_part_numeric</th>\n",
       "    </tr>\n",
       "  </thead>\n",
       "  <tbody>\n",
       "    <tr>\n",
       "      <th>0</th>\n",
       "      <td>10/6/2020</td>\n",
       "      <td>0</td>\n",
       "      <td>1BIGBILHOT</td>\n",
       "      <td>0</td>\n",
       "      <td>0</td>\n",
       "      <td>0</td>\n",
       "      <td>0.0</td>\n",
       "      <td>0.0</td>\n",
       "      <td>0</td>\n",
       "      <td>0</td>\n",
       "      <td>0</td>\n",
       "      <td>0</td>\n",
       "      <td>0</td>\n",
       "      <td>0</td>\n",
       "      <td>0.0</td>\n",
       "      <td>01:03.0</td>\n",
       "      <td>morning</td>\n",
       "      <td>0.0</td>\n",
       "      <td>No message was sent!</td>\n",
       "      <td>0.0</td>\n",
       "    </tr>\n",
       "    <tr>\n",
       "      <th>1</th>\n",
       "      <td>10/6/2020</td>\n",
       "      <td>1</td>\n",
       "      <td>1BIGBILHOT</td>\n",
       "      <td>0</td>\n",
       "      <td>0</td>\n",
       "      <td>0</td>\n",
       "      <td>0.0</td>\n",
       "      <td>0.0</td>\n",
       "      <td>0</td>\n",
       "      <td>0</td>\n",
       "      <td>0</td>\n",
       "      <td>1</td>\n",
       "      <td>1</td>\n",
       "      <td>1</td>\n",
       "      <td>0.5</td>\n",
       "      <td>01:04.3</td>\n",
       "      <td>afternoon</td>\n",
       "      <td>2.0</td>\n",
       "      <td>Did you forget what pleasant activities to do?...</td>\n",
       "      <td>1.0</td>\n",
       "    </tr>\n",
       "    <tr>\n",
       "      <th>2</th>\n",
       "      <td>10/6/2020</td>\n",
       "      <td>2</td>\n",
       "      <td>1BIGBILHOT</td>\n",
       "      <td>0</td>\n",
       "      <td>0</td>\n",
       "      <td>0</td>\n",
       "      <td>0.0</td>\n",
       "      <td>0.0</td>\n",
       "      <td>0</td>\n",
       "      <td>0</td>\n",
       "      <td>0</td>\n",
       "      <td>2</td>\n",
       "      <td>2</td>\n",
       "      <td>1</td>\n",
       "      <td>0.5</td>\n",
       "      <td>01:03.7</td>\n",
       "      <td>evening</td>\n",
       "      <td>3.0</td>\n",
       "      <td>Many people sometimes feel sad, this is nothin...</td>\n",
       "      <td>2.0</td>\n",
       "    </tr>\n",
       "    <tr>\n",
       "      <th>3</th>\n",
       "      <td>10/7/2020</td>\n",
       "      <td>0</td>\n",
       "      <td>1BIGBILHOT</td>\n",
       "      <td>0</td>\n",
       "      <td>0</td>\n",
       "      <td>0</td>\n",
       "      <td>0.0</td>\n",
       "      <td>0.0</td>\n",
       "      <td>0</td>\n",
       "      <td>0</td>\n",
       "      <td>0</td>\n",
       "      <td>1</td>\n",
       "      <td>1</td>\n",
       "      <td>1</td>\n",
       "      <td>0.5</td>\n",
       "      <td>01:03.6</td>\n",
       "      <td>morning</td>\n",
       "      <td>3.0</td>\n",
       "      <td>Even if you don’t rate your mood at some point...</td>\n",
       "      <td>0.0</td>\n",
       "    </tr>\n",
       "    <tr>\n",
       "      <th>4</th>\n",
       "      <td>10/7/2020</td>\n",
       "      <td>1</td>\n",
       "      <td>1BIGBILHOT</td>\n",
       "      <td>0</td>\n",
       "      <td>0</td>\n",
       "      <td>0</td>\n",
       "      <td>0.0</td>\n",
       "      <td>0.0</td>\n",
       "      <td>0</td>\n",
       "      <td>0</td>\n",
       "      <td>0</td>\n",
       "      <td>2</td>\n",
       "      <td>2</td>\n",
       "      <td>1</td>\n",
       "      <td>0.5</td>\n",
       "      <td>01:03.7</td>\n",
       "      <td>afternoon</td>\n",
       "      <td>3.0</td>\n",
       "      <td>Many people sometimes feel sad, this is nothin...</td>\n",
       "      <td>1.0</td>\n",
       "    </tr>\n",
       "  </tbody>\n",
       "</table>\n",
       "</div>"
      ],
      "text/plain": [
       "  serverTimestamp  day_part_x     user_id  numberRating  highestRating  \\\n",
       "0       10/6/2020           0  1BIGBILHOT             0              0   \n",
       "1       10/6/2020           1  1BIGBILHOT             0              0   \n",
       "2       10/6/2020           2  1BIGBILHOT             0              0   \n",
       "3       10/7/2020           0  1BIGBILHOT             0              0   \n",
       "4       10/7/2020           1  1BIGBILHOT             0              0   \n",
       "\n",
       "   lowestRating  medianRating  sdRating  numberLowRating  numberMediumRating  \\\n",
       "0             0           0.0       0.0                0                   0   \n",
       "1             0           0.0       0.0                0                   0   \n",
       "2             0           0.0       0.0                0                   0   \n",
       "3             0           0.0       0.0                0                   0   \n",
       "4             0           0.0       0.0                0                   0   \n",
       "\n",
       "   numberHighRating  numberMessageReceived  numberMessageRead  readAllMessage  \\\n",
       "0                 0                      0                  0               0   \n",
       "1                 0                      1                  1               1   \n",
       "2                 0                      2                  2               1   \n",
       "3                 0                      1                  1               1   \n",
       "4                 0                      2                  2               1   \n",
       "\n",
       "   reward timestamp day_part_y  action  \\\n",
       "0     0.0   01:03.0    morning     0.0   \n",
       "1     0.5   01:04.3  afternoon     2.0   \n",
       "2     0.5   01:03.7    evening     3.0   \n",
       "3     0.5   01:03.6    morning     3.0   \n",
       "4     0.5   01:03.7  afternoon     3.0   \n",
       "\n",
       "                                             message  day_part_numeric  \n",
       "0                               No message was sent!               0.0  \n",
       "1  Did you forget what pleasant activities to do?...               1.0  \n",
       "2  Many people sometimes feel sad, this is nothin...               2.0  \n",
       "3  Even if you don’t rate your mood at some point...               0.0  \n",
       "4  Many people sometimes feel sad, this is nothin...               1.0  "
      ]
     },
     "execution_count": 3,
     "metadata": {},
     "output_type": "execute_result"
    }
   ],
   "source": [
    "data.head()"
   ]
  },
  {
   "cell_type": "code",
   "execution_count": 4,
   "metadata": {},
   "outputs": [
    {
     "name": "stdout",
     "output_type": "stream",
     "text": [
      "<class 'pandas.core.frame.DataFrame'>\n",
      "RangeIndex: 9564 entries, 0 to 9563\n",
      "Data columns (total 20 columns):\n",
      " #   Column                 Non-Null Count  Dtype  \n",
      "---  ------                 --------------  -----  \n",
      " 0   serverTimestamp        9564 non-null   object \n",
      " 1   day_part_x             9564 non-null   int64  \n",
      " 2   user_id                9564 non-null   object \n",
      " 3   numberRating           9564 non-null   int64  \n",
      " 4   highestRating          9564 non-null   int64  \n",
      " 5   lowestRating           9564 non-null   int64  \n",
      " 6   medianRating           9564 non-null   float64\n",
      " 7   sdRating               9564 non-null   float64\n",
      " 8   numberLowRating        9564 non-null   int64  \n",
      " 9   numberMediumRating     9564 non-null   int64  \n",
      " 10  numberHighRating       9564 non-null   int64  \n",
      " 11  numberMessageReceived  9564 non-null   int64  \n",
      " 12  numberMessageRead      9564 non-null   int64  \n",
      " 13  readAllMessage         9564 non-null   int64  \n",
      " 14  reward                 9564 non-null   float64\n",
      " 15  timestamp              8764 non-null   object \n",
      " 16  day_part_y             8764 non-null   object \n",
      " 17  action                 8764 non-null   float64\n",
      " 18  message                8764 non-null   object \n",
      " 19  day_part_numeric       8764 non-null   float64\n",
      "dtypes: float64(5), int64(10), object(5)\n",
      "memory usage: 1.5+ MB\n"
     ]
    }
   ],
   "source": [
    "data.info()"
   ]
  },
  {
   "cell_type": "markdown",
   "metadata": {},
   "source": [
    "##### Data Cleaning (need to double check)"
   ]
  },
  {
   "cell_type": "code",
   "execution_count": 5,
   "metadata": {},
   "outputs": [
    {
     "name": "stderr",
     "output_type": "stream",
     "text": [
      "C:\\Users\\nbasa\\AppData\\Local\\Temp\\ipykernel_1856\\1670734399.py:9: FutureWarning: A value is trying to be set on a copy of a DataFrame or Series through chained assignment using an inplace method.\n",
      "The behavior will change in pandas 3.0. This inplace method will never work because the intermediate object on which we are setting values always behaves as a copy.\n",
      "\n",
      "For example, when doing 'df[col].method(value, inplace=True)', try using 'df.method({col: value}, inplace=True)' or df[col] = df[col].method(value) instead, to perform the operation inplace on the original object.\n",
      "\n",
      "\n",
      "  df[col].fillna(df[col].mode()[0], inplace=True)  # Impute with mode for categorical data\n",
      "C:\\Users\\nbasa\\AppData\\Local\\Temp\\ipykernel_1856\\1670734399.py:5: FutureWarning: A value is trying to be set on a copy of a DataFrame or Series through chained assignment using an inplace method.\n",
      "The behavior will change in pandas 3.0. This inplace method will never work because the intermediate object on which we are setting values always behaves as a copy.\n",
      "\n",
      "For example, when doing 'df[col].method(value, inplace=True)', try using 'df.method({col: value}, inplace=True)' or df[col] = df[col].method(value) instead, to perform the operation inplace on the original object.\n",
      "\n",
      "\n",
      "  df[col].fillna(df[col].mean(), inplace=True)\n"
     ]
    }
   ],
   "source": [
    "def process_csv(df):\n",
    "    for col in df.columns:\n",
    "        if pd.api.types.is_numeric_dtype(df[col]): # Handle numerical missing values (mean imputation)\n",
    "            if df[col].isnull().any():\n",
    "                df[col].fillna(df[col].mean(), inplace=True)\n",
    "        else: # Handle missing values in categorical or other object columns\n",
    "            if pd.api.types.is_object_dtype(df[col]):\n",
    "                if df[col].isnull().any():\n",
    "                    df[col].fillna(df[col].mode()[0], inplace=True)  # Impute with mode for categorical data\n",
    "    return df\n",
    "\n",
    "clean_data = process_csv(data)"
   ]
  },
  {
   "cell_type": "code",
   "execution_count": 6,
   "metadata": {},
   "outputs": [
    {
     "name": "stdout",
     "output_type": "stream",
     "text": [
      "<class 'pandas.core.frame.DataFrame'>\n",
      "RangeIndex: 9564 entries, 0 to 9563\n",
      "Data columns (total 20 columns):\n",
      " #   Column                 Non-Null Count  Dtype  \n",
      "---  ------                 --------------  -----  \n",
      " 0   serverTimestamp        9564 non-null   object \n",
      " 1   day_part_x             9564 non-null   int64  \n",
      " 2   user_id                9564 non-null   object \n",
      " 3   numberRating           9564 non-null   int64  \n",
      " 4   highestRating          9564 non-null   int64  \n",
      " 5   lowestRating           9564 non-null   int64  \n",
      " 6   medianRating           9564 non-null   float64\n",
      " 7   sdRating               9564 non-null   float64\n",
      " 8   numberLowRating        9564 non-null   int64  \n",
      " 9   numberMediumRating     9564 non-null   int64  \n",
      " 10  numberHighRating       9564 non-null   int64  \n",
      " 11  numberMessageReceived  9564 non-null   int64  \n",
      " 12  numberMessageRead      9564 non-null   int64  \n",
      " 13  readAllMessage         9564 non-null   int64  \n",
      " 14  reward                 9564 non-null   float64\n",
      " 15  timestamp              9564 non-null   object \n",
      " 16  day_part_y             9564 non-null   object \n",
      " 17  action                 9564 non-null   float64\n",
      " 18  message                9564 non-null   object \n",
      " 19  day_part_numeric       9564 non-null   float64\n",
      "dtypes: float64(5), int64(10), object(5)\n",
      "memory usage: 1.5+ MB\n"
     ]
    }
   ],
   "source": [
    "clean_data.info()"
   ]
  },
  {
   "cell_type": "markdown",
   "metadata": {},
   "source": [
    "##### Metadata Extraction"
   ]
  },
  {
   "cell_type": "code",
   "execution_count": 7,
   "metadata": {},
   "outputs": [],
   "source": [
    "metadata = SingleTableMetadata()\n",
    "metadata.detect_from_dataframe(clean_data)"
   ]
  },
  {
   "cell_type": "markdown",
   "metadata": {},
   "source": [
    "##### Model Initialization"
   ]
  },
  {
   "cell_type": "code",
   "execution_count": 8,
   "metadata": {},
   "outputs": [
    {
     "name": "stderr",
     "output_type": "stream",
     "text": [
      "c:\\Users\\nbasa\\AppData\\Local\\Programs\\Python\\Python311\\Lib\\site-packages\\sdv\\single_table\\base.py:82: UserWarning: We strongly recommend saving the metadata using 'save_to_json' for replicability in future SDV versions.\n",
      "  warnings.warn(\n",
      "c:\\Users\\nbasa\\AppData\\Local\\Programs\\Python\\Python311\\Lib\\site-packages\\tqdm\\auto.py:21: TqdmWarning: IProgress not found. Please update jupyter and ipywidgets. See https://ipywidgets.readthedocs.io/en/stable/user_install.html\n",
      "  from .autonotebook import tqdm as notebook_tqdm\n",
      "Gen. (-0.99) | Discrim. (-0.41): 100%|██████████| 100/100 [04:26<00:00,  2.67s/it]\n"
     ]
    }
   ],
   "source": [
    "# Initialize the model\n",
    "synthesizer = CTGANSynthesizer(\n",
    "    metadata=metadata,\n",
    "    enforce_rounding=False,\n",
    "    epochs=100,\n",
    "    verbose=True)\n",
    "# Fit the synthesizer to real data\n",
    "synthesizer.fit(clean_data)"
   ]
  },
  {
   "cell_type": "code",
   "execution_count": 9,
   "metadata": {},
   "outputs": [],
   "source": [
    "# Generate synthetic data\n",
    "synthetic_data = synthesizer.sample(len(clean_data))"
   ]
  },
  {
   "cell_type": "code",
   "execution_count": 10,
   "metadata": {},
   "outputs": [],
   "source": [
    "# Save synthetic data to CSV file\n",
    "os.makedirs(os.path.dirname(\"data/gen_data.csv\"), exist_ok=True)\n",
    "synthetic_data.to_csv(\"data/gen_data.csv\", index=False)"
   ]
  },
  {
   "cell_type": "code",
   "execution_count": 11,
   "metadata": {},
   "outputs": [
    {
     "name": "stdout",
     "output_type": "stream",
     "text": [
      "Generating report ...\n",
      "\n",
      "(1/2) Evaluating Data Validity: |██████████| 20/20 [00:00<00:00, 1999.19it/s]|\n",
      "Data Validity Score: 100.0%\n",
      "\n",
      "(2/2) Evaluating Data Structure: |██████████| 1/1 [00:00<00:00, 1001.03it/s]|\n",
      "Data Structure Score: 100.0%\n",
      "\n",
      "Overall Score (Average): 100.0%\n",
      "\n"
     ]
    }
   ],
   "source": [
    "# Run diagnostic and evaluate quality\n",
    "diagnostic = run_diagnostic(real_data=clean_data, synthetic_data=synthetic_data, metadata=metadata)"
   ]
  },
  {
   "cell_type": "code",
   "execution_count": 12,
   "metadata": {},
   "outputs": [
    {
     "name": "stdout",
     "output_type": "stream",
     "text": [
      "Generating report ...\n",
      "\n",
      "(1/2) Evaluating Column Shapes: |██████████| 20/20 [00:00<00:00, 476.15it/s]|\n",
      "Column Shapes Score: 70.39%\n",
      "\n",
      "(2/2) Evaluating Column Pair Trends: |██████████| 190/190 [00:02<00:00, 89.51it/s]| \n",
      "Column Pair Trends Score: 73.32%\n",
      "\n",
      "Overall Score (Average): 71.85%\n",
      "\n"
     ]
    }
   ],
   "source": [
    "quality_report = evaluate_quality(real_data=clean_data, synthetic_data=synthetic_data, metadata=metadata)"
   ]
  },
  {
   "cell_type": "code",
   "execution_count": 13,
   "metadata": {},
   "outputs": [
    {
     "data": {
      "text/html": [
       "<iframe\n",
       "    scrolling=\"no\"\n",
       "    width=\"100%\"\n",
       "    height=\"545px\"\n",
       "    src=\"iframe_figures/figure_13.html\"\n",
       "    frameborder=\"0\"\n",
       "    allowfullscreen\n",
       "></iframe>\n"
      ]
     },
     "metadata": {},
     "output_type": "display_data"
    },
    {
     "data": {
      "text/html": [
       "<iframe\n",
       "    scrolling=\"no\"\n",
       "    width=\"100%\"\n",
       "    height=\"545px\"\n",
       "    src=\"iframe_figures/figure_13.html\"\n",
       "    frameborder=\"0\"\n",
       "    allowfullscreen\n",
       "></iframe>\n"
      ]
     },
     "metadata": {},
     "output_type": "display_data"
    }
   ],
   "source": [
    "'''column_plot = get_column_plot(real_data=clean_data, synthetic_data=synthetic_data, column_name=\"user_id\", metadata=metadata)\n",
    "column_pair_plot = get_column_pair_plot(real_data=clean_data, synthetic_data=synthetic_data, column_names=[\"numberMessageReceived\", \"numberMessageRead\"], metadata=metadata)\n",
    "\n",
    "column_plot.show()\n",
    "column_pair_plot.show()'''"
   ]
  }
 ],
 "metadata": {
  "kernelspec": {
   "display_name": "Python 3",
   "language": "python",
   "name": "python3"
  },
  "language_info": {
   "codemirror_mode": {
    "name": "ipython",
    "version": 3
   },
   "file_extension": ".py",
   "mimetype": "text/x-python",
   "name": "python",
   "nbconvert_exporter": "python",
   "pygments_lexer": "ipython3",
   "version": "3.11.5"
  }
 },
 "nbformat": 4,
 "nbformat_minor": 2
}
