{
 "cells": [
  {
   "cell_type": "markdown",
   "metadata": {},
   "source": [
    "##### Imports"
   ]
  },
  {
   "cell_type": "code",
   "execution_count": 1,
   "metadata": {},
   "outputs": [],
   "source": [
    "import os\n",
    "import pandas as pd\n",
    "import matplotlib.pyplot as plt\n",
    "from sdv.single_table import CTGANSynthesizer\n",
    "from sdv.evaluation.single_table import run_diagnostic, evaluate_quality, get_column_plot, get_column_pair_plot\n",
    "from sdv.metadata import SingleTableMetadata"
   ]
  },
  {
   "cell_type": "markdown",
   "metadata": {},
   "source": [
    "##### Load dataset"
   ]
  },
  {
   "cell_type": "code",
   "execution_count": 2,
   "metadata": {},
   "outputs": [],
   "source": [
    "data = pd.read_csv(\"data/merged_df_file_rutgers.csv\")\n",
    "\n",
    "# Sort data by user_id, timestamp, and day_part_x\n",
    "data = data.sort_values(by=['user_id', 'timestamp', 'day_part_x']) # there is a mismatch between timestamp and day_part_x"
   ]
  },
  {
   "cell_type": "code",
   "execution_count": 3,
   "metadata": {},
   "outputs": [
    {
     "data": {
      "text/html": [
       "<div>\n",
       "<style scoped>\n",
       "    .dataframe tbody tr th:only-of-type {\n",
       "        vertical-align: middle;\n",
       "    }\n",
       "\n",
       "    .dataframe tbody tr th {\n",
       "        vertical-align: top;\n",
       "    }\n",
       "\n",
       "    .dataframe thead th {\n",
       "        text-align: right;\n",
       "    }\n",
       "</style>\n",
       "<table border=\"1\" class=\"dataframe\">\n",
       "  <thead>\n",
       "    <tr style=\"text-align: right;\">\n",
       "      <th></th>\n",
       "      <th>serverTimestamp</th>\n",
       "      <th>day_part_x</th>\n",
       "      <th>user_id</th>\n",
       "      <th>numberRating</th>\n",
       "      <th>highestRating</th>\n",
       "      <th>lowestRating</th>\n",
       "      <th>medianRating</th>\n",
       "      <th>sdRating</th>\n",
       "      <th>numberLowRating</th>\n",
       "      <th>numberMediumRating</th>\n",
       "      <th>numberHighRating</th>\n",
       "      <th>numberMessageReceived</th>\n",
       "      <th>numberMessageRead</th>\n",
       "      <th>readAllMessage</th>\n",
       "      <th>reward</th>\n",
       "      <th>timestamp</th>\n",
       "      <th>day_part_y</th>\n",
       "      <th>action</th>\n",
       "      <th>message</th>\n",
       "      <th>day_part_numeric</th>\n",
       "    </tr>\n",
       "  </thead>\n",
       "  <tbody>\n",
       "    <tr>\n",
       "      <th>16</th>\n",
       "      <td>10/11/2020</td>\n",
       "      <td>1</td>\n",
       "      <td>1BIGBILHOT</td>\n",
       "      <td>0</td>\n",
       "      <td>0</td>\n",
       "      <td>0</td>\n",
       "      <td>0.0</td>\n",
       "      <td>0.0</td>\n",
       "      <td>0</td>\n",
       "      <td>0</td>\n",
       "      <td>0</td>\n",
       "      <td>1</td>\n",
       "      <td>0</td>\n",
       "      <td>0</td>\n",
       "      <td>0.0</td>\n",
       "      <td>01:02.9</td>\n",
       "      <td>afternoon</td>\n",
       "      <td>0.0</td>\n",
       "      <td>No message was sent!</td>\n",
       "      <td>1.0</td>\n",
       "    </tr>\n",
       "    <tr>\n",
       "      <th>0</th>\n",
       "      <td>10/6/2020</td>\n",
       "      <td>0</td>\n",
       "      <td>1BIGBILHOT</td>\n",
       "      <td>0</td>\n",
       "      <td>0</td>\n",
       "      <td>0</td>\n",
       "      <td>0.0</td>\n",
       "      <td>0.0</td>\n",
       "      <td>0</td>\n",
       "      <td>0</td>\n",
       "      <td>0</td>\n",
       "      <td>0</td>\n",
       "      <td>0</td>\n",
       "      <td>0</td>\n",
       "      <td>0.0</td>\n",
       "      <td>01:03.0</td>\n",
       "      <td>morning</td>\n",
       "      <td>0.0</td>\n",
       "      <td>No message was sent!</td>\n",
       "      <td>0.0</td>\n",
       "    </tr>\n",
       "    <tr>\n",
       "      <th>10</th>\n",
       "      <td>10/9/2020</td>\n",
       "      <td>1</td>\n",
       "      <td>1BIGBILHOT</td>\n",
       "      <td>1</td>\n",
       "      <td>4</td>\n",
       "      <td>4</td>\n",
       "      <td>4.0</td>\n",
       "      <td>0.0</td>\n",
       "      <td>0</td>\n",
       "      <td>1</td>\n",
       "      <td>0</td>\n",
       "      <td>1</td>\n",
       "      <td>0</td>\n",
       "      <td>0</td>\n",
       "      <td>0.5</td>\n",
       "      <td>01:03.2</td>\n",
       "      <td>afternoon</td>\n",
       "      <td>0.0</td>\n",
       "      <td>No message was sent!</td>\n",
       "      <td>1.0</td>\n",
       "    </tr>\n",
       "    <tr>\n",
       "      <th>3</th>\n",
       "      <td>10/7/2020</td>\n",
       "      <td>0</td>\n",
       "      <td>1BIGBILHOT</td>\n",
       "      <td>0</td>\n",
       "      <td>0</td>\n",
       "      <td>0</td>\n",
       "      <td>0.0</td>\n",
       "      <td>0.0</td>\n",
       "      <td>0</td>\n",
       "      <td>0</td>\n",
       "      <td>0</td>\n",
       "      <td>1</td>\n",
       "      <td>1</td>\n",
       "      <td>1</td>\n",
       "      <td>0.5</td>\n",
       "      <td>01:03.6</td>\n",
       "      <td>morning</td>\n",
       "      <td>3.0</td>\n",
       "      <td>Even if you don’t rate your mood at some point...</td>\n",
       "      <td>0.0</td>\n",
       "    </tr>\n",
       "    <tr>\n",
       "      <th>9</th>\n",
       "      <td>10/9/2020</td>\n",
       "      <td>0</td>\n",
       "      <td>1BIGBILHOT</td>\n",
       "      <td>1</td>\n",
       "      <td>4</td>\n",
       "      <td>4</td>\n",
       "      <td>4.0</td>\n",
       "      <td>0.0</td>\n",
       "      <td>0</td>\n",
       "      <td>1</td>\n",
       "      <td>0</td>\n",
       "      <td>1</td>\n",
       "      <td>0</td>\n",
       "      <td>0</td>\n",
       "      <td>0.5</td>\n",
       "      <td>01:03.6</td>\n",
       "      <td>morning</td>\n",
       "      <td>2.0</td>\n",
       "      <td>Don’t forget to set a reminder in order to not...</td>\n",
       "      <td>0.0</td>\n",
       "    </tr>\n",
       "  </tbody>\n",
       "</table>\n",
       "</div>"
      ],
      "text/plain": [
       "   serverTimestamp  day_part_x     user_id  numberRating  highestRating  \\\n",
       "16      10/11/2020           1  1BIGBILHOT             0              0   \n",
       "0        10/6/2020           0  1BIGBILHOT             0              0   \n",
       "10       10/9/2020           1  1BIGBILHOT             1              4   \n",
       "3        10/7/2020           0  1BIGBILHOT             0              0   \n",
       "9        10/9/2020           0  1BIGBILHOT             1              4   \n",
       "\n",
       "    lowestRating  medianRating  sdRating  numberLowRating  numberMediumRating  \\\n",
       "16             0           0.0       0.0                0                   0   \n",
       "0              0           0.0       0.0                0                   0   \n",
       "10             4           4.0       0.0                0                   1   \n",
       "3              0           0.0       0.0                0                   0   \n",
       "9              4           4.0       0.0                0                   1   \n",
       "\n",
       "    numberHighRating  numberMessageReceived  numberMessageRead  \\\n",
       "16                 0                      1                  0   \n",
       "0                  0                      0                  0   \n",
       "10                 0                      1                  0   \n",
       "3                  0                      1                  1   \n",
       "9                  0                      1                  0   \n",
       "\n",
       "    readAllMessage  reward timestamp day_part_y  action  \\\n",
       "16               0     0.0   01:02.9  afternoon     0.0   \n",
       "0                0     0.0   01:03.0    morning     0.0   \n",
       "10               0     0.5   01:03.2  afternoon     0.0   \n",
       "3                1     0.5   01:03.6    morning     3.0   \n",
       "9                0     0.5   01:03.6    morning     2.0   \n",
       "\n",
       "                                              message  day_part_numeric  \n",
       "16                               No message was sent!               1.0  \n",
       "0                                No message was sent!               0.0  \n",
       "10                               No message was sent!               1.0  \n",
       "3   Even if you don’t rate your mood at some point...               0.0  \n",
       "9   Don’t forget to set a reminder in order to not...               0.0  "
      ]
     },
     "execution_count": 3,
     "metadata": {},
     "output_type": "execute_result"
    }
   ],
   "source": [
    "data.head()"
   ]
  },
  {
   "cell_type": "code",
   "execution_count": 4,
   "metadata": {},
   "outputs": [
    {
     "name": "stdout",
     "output_type": "stream",
     "text": [
      "<class 'pandas.core.frame.DataFrame'>\n",
      "Index: 9564 entries, 16 to 9563\n",
      "Data columns (total 20 columns):\n",
      " #   Column                 Non-Null Count  Dtype  \n",
      "---  ------                 --------------  -----  \n",
      " 0   serverTimestamp        9564 non-null   object \n",
      " 1   day_part_x             9564 non-null   int64  \n",
      " 2   user_id                9564 non-null   object \n",
      " 3   numberRating           9564 non-null   int64  \n",
      " 4   highestRating          9564 non-null   int64  \n",
      " 5   lowestRating           9564 non-null   int64  \n",
      " 6   medianRating           9564 non-null   float64\n",
      " 7   sdRating               9564 non-null   float64\n",
      " 8   numberLowRating        9564 non-null   int64  \n",
      " 9   numberMediumRating     9564 non-null   int64  \n",
      " 10  numberHighRating       9564 non-null   int64  \n",
      " 11  numberMessageReceived  9564 non-null   int64  \n",
      " 12  numberMessageRead      9564 non-null   int64  \n",
      " 13  readAllMessage         9564 non-null   int64  \n",
      " 14  reward                 9564 non-null   float64\n",
      " 15  timestamp              8764 non-null   object \n",
      " 16  day_part_y             8764 non-null   object \n",
      " 17  action                 8764 non-null   float64\n",
      " 18  message                8764 non-null   object \n",
      " 19  day_part_numeric       8764 non-null   float64\n",
      "dtypes: float64(5), int64(10), object(5)\n",
      "memory usage: 1.5+ MB\n"
     ]
    }
   ],
   "source": [
    "data.info()"
   ]
  },
  {
   "cell_type": "markdown",
   "metadata": {},
   "source": [
    "##### Data Cleaning (will drop any rows with NAs)"
   ]
  },
  {
   "cell_type": "code",
   "execution_count": 5,
   "metadata": {},
   "outputs": [],
   "source": [
    "def process_csv(df):\n",
    "\n",
    "    df = df.dropna()\n",
    "    '''for col in df.columns:\n",
    "        if pd.api.types.is_numeric_dtype(df[col]): # Handle numerical missing values (mean imputation)\n",
    "            if df[col].isnull().any():\n",
    "                df[col].fillna(df[col].mean(), inplace=True)\n",
    "        else: # Handle missing values in categorical or other object columns\n",
    "            if pd.api.types.is_object_dtype(df[col]):\n",
    "                if df[col].isnull().any():\n",
    "                    df[col].fillna(df[col].mode()[0], inplace=True)  # Impute with mode for categorical data'''\n",
    "    return df\n",
    "\n",
    "clean_data = process_csv(data)"
   ]
  },
  {
   "cell_type": "code",
   "execution_count": 6,
   "metadata": {},
   "outputs": [
    {
     "name": "stdout",
     "output_type": "stream",
     "text": [
      "<class 'pandas.core.frame.DataFrame'>\n",
      "Index: 8764 entries, 16 to 9285\n",
      "Data columns (total 20 columns):\n",
      " #   Column                 Non-Null Count  Dtype  \n",
      "---  ------                 --------------  -----  \n",
      " 0   serverTimestamp        8764 non-null   object \n",
      " 1   day_part_x             8764 non-null   int64  \n",
      " 2   user_id                8764 non-null   object \n",
      " 3   numberRating           8764 non-null   int64  \n",
      " 4   highestRating          8764 non-null   int64  \n",
      " 5   lowestRating           8764 non-null   int64  \n",
      " 6   medianRating           8764 non-null   float64\n",
      " 7   sdRating               8764 non-null   float64\n",
      " 8   numberLowRating        8764 non-null   int64  \n",
      " 9   numberMediumRating     8764 non-null   int64  \n",
      " 10  numberHighRating       8764 non-null   int64  \n",
      " 11  numberMessageReceived  8764 non-null   int64  \n",
      " 12  numberMessageRead      8764 non-null   int64  \n",
      " 13  readAllMessage         8764 non-null   int64  \n",
      " 14  reward                 8764 non-null   float64\n",
      " 15  timestamp              8764 non-null   object \n",
      " 16  day_part_y             8764 non-null   object \n",
      " 17  action                 8764 non-null   float64\n",
      " 18  message                8764 non-null   object \n",
      " 19  day_part_numeric       8764 non-null   float64\n",
      "dtypes: float64(5), int64(10), object(5)\n",
      "memory usage: 1.4+ MB\n"
     ]
    }
   ],
   "source": [
    "clean_data.info()"
   ]
  },
  {
   "cell_type": "markdown",
   "metadata": {},
   "source": [
    "##### Check if constraints applied on real data"
   ]
  },
  {
   "cell_type": "code",
   "execution_count": 7,
   "metadata": {},
   "outputs": [],
   "source": [
    "clean_data = clean_data[(clean_data['numberRating'] >= 0) & (clean_data['numberRating'] <= 3)]\n",
    "clean_data = clean_data[(clean_data['numberMessageReceived'] >= 0) & (clean_data['numberMessageReceived'] <= 3)]\n",
    "clean_data = clean_data[(clean_data['numberMessageRead'] >= 0) & (clean_data['numberMessageRead'] <= 3)]\n",
    "clean_data = clean_data[(clean_data['reward'] <= 2)]"
   ]
  },
  {
   "cell_type": "code",
   "execution_count": 8,
   "metadata": {},
   "outputs": [],
   "source": [
    "# When generating at day_part_x  = 0, columns numberRating, numberMessageReceived and numberMessageRead have a max of 1, \n",
    "# for day_part_x  = 1 the max is 2 and for day_part_x  = 2 the max is 3.\n",
    "\n",
    "def day_part_no_check(df):\n",
    "    conditions = {\n",
    "        0: {'numberRating': 1, 'numberMessageReceived': 1, 'numberMessageRead': 1},\n",
    "        1: {'numberRating': 2, 'numberMessageReceived': 2, 'numberMessageRead': 2},\n",
    "        2: {'numberRating': 3, 'numberMessageReceived': 3, 'numberMessageRead': 3}\n",
    "    }\n",
    "    \n",
    "    for day_part, max_values in conditions.items():\n",
    "        for col, max_value in max_values.items():\n",
    "            df = df[~((df['day_part_x'] == day_part) & (df[col] > max_value))]\n",
    "    \n",
    "    return df\n",
    "\n",
    "# Filter the DataFrame\n",
    "clean_data = day_part_no_check(clean_data)"
   ]
  },
  {
   "cell_type": "code",
   "execution_count": 9,
   "metadata": {},
   "outputs": [],
   "source": [
    "# Action can only take 0, 1, 2, same applies to day_part_x.\n",
    "\n",
    "def check_action_daypart(df):\n",
    "    # Define conditions\n",
    "    condition_action = df['action'].isin([0, 1, 2])\n",
    "    condition_day_part_x = df['day_part_x'].isin([0, 1, 2])\n",
    "    \n",
    "    # Filter DataFrame based on conditions\n",
    "    df_filtered = df[condition_action & condition_day_part_x]\n",
    "    \n",
    "    return df_filtered\n",
    "\n",
    "# Call the function\n",
    "clean_data = check_action_daypart(clean_data)"
   ]
  },
  {
   "cell_type": "code",
   "execution_count": 10,
   "metadata": {},
   "outputs": [
    {
     "name": "stdout",
     "output_type": "stream",
     "text": [
      "<class 'pandas.core.frame.DataFrame'>\n",
      "Index: 8172 entries, 16 to 9552\n",
      "Data columns (total 20 columns):\n",
      " #   Column                 Non-Null Count  Dtype  \n",
      "---  ------                 --------------  -----  \n",
      " 0   serverTimestamp        8172 non-null   object \n",
      " 1   day_part_x             8172 non-null   int64  \n",
      " 2   user_id                8172 non-null   object \n",
      " 3   numberRating           8172 non-null   int64  \n",
      " 4   highestRating          8172 non-null   int64  \n",
      " 5   lowestRating           8172 non-null   int64  \n",
      " 6   medianRating           8172 non-null   float64\n",
      " 7   sdRating               8172 non-null   float64\n",
      " 8   numberLowRating        8172 non-null   int64  \n",
      " 9   numberMediumRating     8172 non-null   int64  \n",
      " 10  numberHighRating       8172 non-null   int64  \n",
      " 11  numberMessageReceived  8172 non-null   int64  \n",
      " 12  numberMessageRead      8172 non-null   int64  \n",
      " 13  readAllMessage         8172 non-null   int64  \n",
      " 14  reward                 8172 non-null   float64\n",
      " 15  timestamp              8172 non-null   object \n",
      " 16  day_part_y             8172 non-null   object \n",
      " 17  action                 8172 non-null   float64\n",
      " 18  message                8172 non-null   object \n",
      " 19  day_part_numeric       8172 non-null   float64\n",
      "dtypes: float64(5), int64(10), object(5)\n",
      "memory usage: 1.3+ MB\n"
     ]
    }
   ],
   "source": [
    "clean_data.info()"
   ]
  },
  {
   "cell_type": "markdown",
   "metadata": {},
   "source": [
    "##### Metadata Extraction"
   ]
  },
  {
   "cell_type": "code",
   "execution_count": 11,
   "metadata": {},
   "outputs": [],
   "source": [
    "metadata = SingleTableMetadata()\n",
    "metadata.detect_from_dataframe(clean_data)"
   ]
  },
  {
   "cell_type": "code",
   "execution_count": 12,
   "metadata": {},
   "outputs": [],
   "source": [
    "metadata.update_columns(\n",
    "    column_names=['numberRating', 'numberMessageReceived', 'numberMessageRead', 'highestRating', 'lowestRating', \n",
    "                  'numberLowRating', 'numberMediumRating', 'numberHighRating', 'readAllMessage', 'day_part_x', 'day_part_numeric', 'action'],\n",
    "    sdtype='numerical',\n",
    "    computer_representation='Int64'\n",
    ")\n",
    "\n",
    "metadata.update_columns(\n",
    "    column_names=['reward', 'medianRating', 'sdRating'],\n",
    "    sdtype='numerical',\n",
    "    computer_representation='Float'\n",
    ")\n",
    "\n",
    "metadata.update_column(\n",
    "    column_name='serverTimestamp',\n",
    "    sdtype='datetime',\n",
    "    datetime_format='%m/%d/%Y'\n",
    ")\n",
    "\n",
    "metadata.update_column(\n",
    "    column_name='timestamp',\n",
    "    sdtype='datetime',\n",
    "    datetime_format='%M:%S.%f'\n",
    ")\n",
    "\n",
    "metadata.update_columns(\n",
    "    column_names=['day_part_y', 'message'],\n",
    "    sdtype='categorical'\n",
    ")\n",
    "\n",
    "metadata.update_column(\n",
    "    column_name='user_id',\n",
    "    sdtype='id',\n",
    "    regex_format=\"[A-Z0-9]{8,10}\"\n",
    ")"
   ]
  },
  {
   "cell_type": "markdown",
   "metadata": {},
   "source": [
    "##### Model Initialization"
   ]
  },
  {
   "cell_type": "code",
   "execution_count": 13,
   "metadata": {},
   "outputs": [
    {
     "name": "stderr",
     "output_type": "stream",
     "text": [
      "c:\\Users\\nbasa\\AppData\\Local\\Programs\\Python\\Python311\\Lib\\site-packages\\sdv\\single_table\\base.py:82: UserWarning: We strongly recommend saving the metadata using 'save_to_json' for replicability in future SDV versions.\n",
      "  warnings.warn(\n"
     ]
    }
   ],
   "source": [
    "# Initialize the model\n",
    "\n",
    "ctgan_synthesizer = CTGANSynthesizer(\n",
    "    metadata=metadata,\n",
    "    enforce_rounding=True,\n",
    "    epochs=1000,\n",
    "    verbose=True)\n"
   ]
  },
  {
   "cell_type": "code",
   "execution_count": 14,
   "metadata": {},
   "outputs": [],
   "source": [
    "from sdv.single_table import CopulaGANSynthesizer\n",
    "\n",
    "cop_synthesizer = CopulaGANSynthesizer(\n",
    "    metadata=metadata,\n",
    "    enforce_rounding=True,\n",
    "    epochs=1000,\n",
    "    verbose=True)"
   ]
  },
  {
   "cell_type": "code",
   "execution_count": 15,
   "metadata": {},
   "outputs": [],
   "source": [
    "from sdv.single_table import TVAESynthesizer\n",
    "\n",
    "tvae_synthesizer = TVAESynthesizer(\n",
    "    metadata=metadata,\n",
    "    enforce_rounding=True,\n",
    "    epochs=1000)"
   ]
  },
  {
   "cell_type": "code",
   "execution_count": 16,
   "metadata": {},
   "outputs": [],
   "source": [
    "from sdv.single_table import GaussianCopulaSynthesizer\n",
    "\n",
    "gauss_synthesizer = GaussianCopulaSynthesizer(\n",
    "    metadata=metadata,\n",
    "    enforce_rounding=True,\n",
    "    default_distribution='norm' # no idea if this is the case\n",
    ")"
   ]
  },
  {
   "cell_type": "markdown",
   "metadata": {},
   "source": [
    "##### Define Constraints"
   ]
  },
  {
   "cell_type": "code",
   "execution_count": 17,
   "metadata": {},
   "outputs": [],
   "source": [
    "# A user can’t input more than 3 ratings per day and can’t read/receive more than 3 messages per day. \n",
    "# Thus, rows where columns numberRating, numberMessageReceived and numberMessageRead have a value > 3 can be capped to 3.\n",
    "\n",
    "nR_constraint = {\n",
    "    'constraint_class': 'ScalarRange',\n",
    "    'constraint_parameters': {\n",
    "        'column_name': 'numberRating',\n",
    "        'low_value': 0,\n",
    "        'high_value': 3,\n",
    "        'strict_boundaries': False\n",
    "    }\n",
    "}\n",
    "\n",
    "nMRc_constraint = {\n",
    "    'constraint_class': 'ScalarRange',\n",
    "    'constraint_parameters': {\n",
    "        'column_name': 'numberMessageReceived',\n",
    "        'low_value': 0,\n",
    "        'high_value': 3,\n",
    "        'strict_boundaries': False\n",
    "    }\n",
    "}\n",
    "\n",
    "nMRd_constraint = {\n",
    "    'constraint_class': 'ScalarRange',\n",
    "    'constraint_parameters': {\n",
    "        'column_name': 'numberMessageRead',\n",
    "        'low_value': 0,\n",
    "        'high_value': 3,\n",
    "        'strict_boundaries': False\n",
    "    }\n",
    "}\n",
    "\n",
    "# Reward can’t be higher than 2.\n",
    "\n",
    "rwd_constraint = {\n",
    "    'constraint_class': 'ScalarInequality',\n",
    "    'constraint_parameters': {\n",
    "        'column_name': 'reward',\n",
    "        'relation': '<=',\n",
    "        'value':  2.0\n",
    "    }\n",
    "}\n",
    "\n",
    "act_constraint = {\n",
    "    'constraint_class': 'ScalarRange',\n",
    "    'constraint_parameters': {\n",
    "        'column_name': 'action',\n",
    "        'low_value': 0,\n",
    "        'high_value': 2,\n",
    "        'strict_boundaries': False\n",
    "    }\n",
    "}\n",
    "\n",
    "daypart_constraint = {\n",
    "    'constraint_class': 'ScalarRange',\n",
    "    'constraint_parameters': {\n",
    "        'column_name': 'day_part_x',\n",
    "        'low_value': 0,\n",
    "        'high_value': 2,\n",
    "        'strict_boundaries': False\n",
    "    }\n",
    "}"
   ]
  },
  {
   "cell_type": "code",
   "execution_count": 18,
   "metadata": {},
   "outputs": [],
   "source": [
    "# load the constraint from the file\n",
    "\n",
    "ctgan_synthesizer.load_custom_constraint_classes(\n",
    "    filepath='data\\day_part_logic.py',\n",
    "    class_names=['day_partConstraintClass']\n",
    ")\n",
    "\n",
    "cop_synthesizer.load_custom_constraint_classes(\n",
    "    filepath='data\\day_part_logic.py',\n",
    "    class_names=['day_partConstraintClass']\n",
    ")\n",
    "\n",
    "tvae_synthesizer.load_custom_constraint_classes(\n",
    "    filepath='data\\day_part_logic.py',\n",
    "    class_names=['day_partConstraintClass']\n",
    ")\n",
    "\n",
    "gauss_synthesizer.load_custom_constraint_classes(\n",
    "    filepath='data\\day_part_logic.py',\n",
    "    class_names=['day_partConstraintClass']\n",
    ")"
   ]
  },
  {
   "cell_type": "code",
   "execution_count": 19,
   "metadata": {},
   "outputs": [],
   "source": [
    "day_partConstraint= {\n",
    "    'constraint_class': 'day_partConstraintClass',\n",
    "    'constraint_parameters': {\n",
    "        'column_names': ['day_part_x', 'numberRating','numberMessageReceived','numberMessageRead']\n",
    "    }\n",
    "}"
   ]
  },
  {
   "cell_type": "code",
   "execution_count": 20,
   "metadata": {},
   "outputs": [],
   "source": [
    "ctgan_synthesizer.add_constraints(\n",
    "    constraints=[nR_constraint, nMRc_constraint, nMRd_constraint, day_partConstraint, day_partConstraint, act_constraint]\n",
    ")"
   ]
  },
  {
   "cell_type": "code",
   "execution_count": 21,
   "metadata": {},
   "outputs": [],
   "source": [
    "tvae_synthesizer.add_constraints(\n",
    "    constraints=[nR_constraint, nMRc_constraint, nMRd_constraint, day_partConstraint, day_partConstraint, act_constraint]\n",
    ")"
   ]
  },
  {
   "cell_type": "code",
   "execution_count": 22,
   "metadata": {},
   "outputs": [],
   "source": [
    "gauss_synthesizer.add_constraints(\n",
    "    constraints=[nR_constraint, nMRc_constraint, nMRd_constraint, day_partConstraint, day_partConstraint, act_constraint]\n",
    ")"
   ]
  },
  {
   "cell_type": "code",
   "execution_count": 23,
   "metadata": {},
   "outputs": [],
   "source": [
    "cop_synthesizer.add_constraints(\n",
    "    constraints=[nR_constraint, nMRc_constraint, nMRd_constraint, day_partConstraint, day_partConstraint, act_constraint]\n",
    ")"
   ]
  },
  {
   "cell_type": "markdown",
   "metadata": {},
   "source": [
    "##### Model Training"
   ]
  },
  {
   "cell_type": "code",
   "execution_count": 24,
   "metadata": {},
   "outputs": [
    {
     "name": "stderr",
     "output_type": "stream",
     "text": [
      "c:\\Users\\nbasa\\AppData\\Local\\Programs\\Python\\Python311\\Lib\\site-packages\\tqdm\\auto.py:21: TqdmWarning: IProgress not found. Please update jupyter and ipywidgets. See https://ipywidgets.readthedocs.io/en/stable/user_install.html\n",
      "  from .autonotebook import tqdm as notebook_tqdm\n",
      "Gen. (0.00) | Discrim. (0.00):   0%|          | 0/1000 [00:00<?, ?it/s]c:\\Users\\nbasa\\AppData\\Local\\Programs\\Python\\Python311\\Lib\\site-packages\\torch\\autograd\\graph.py:744: UserWarning: Attempting to run cuBLAS, but there was no current CUDA context! Attempting to set the primary context... (Triggered internally at ..\\aten\\src\\ATen\\cuda\\CublasHandlePool.cpp:135.)\n",
      "  return Variable._execution_engine.run_backward(  # Calls into the C++ engine to run the backward pass\n",
      "Gen. (-0.14) | Discrim. (0.06): 100%|██████████| 1000/1000 [21:17<00:00,  1.28s/it]\n"
     ]
    }
   ],
   "source": [
    "# Fit the synthesizer to real data\n",
    "ctgan_synthesizer.fit(clean_data)"
   ]
  },
  {
   "cell_type": "code",
   "execution_count": 25,
   "metadata": {},
   "outputs": [
    {
     "name": "stderr",
     "output_type": "stream",
     "text": [
      "Sampling rows: 100%|██████████| 100/100 [00:00<00:00, 406.41it/s]\n"
     ]
    }
   ],
   "source": [
    "# Generate synthetic data\n",
    "ctgan_synthetic_data = ctgan_synthesizer.sample(100)"
   ]
  },
  {
   "cell_type": "code",
   "execution_count": 26,
   "metadata": {},
   "outputs": [],
   "source": [
    "# Save synthetic data to CSV file\n",
    "os.makedirs(os.path.dirname(\"data/ctgan_data.csv\"), exist_ok=True)\n",
    "ctgan_synthetic_data.to_csv(\"data/ctgan_data.csv\", index=False)"
   ]
  },
  {
   "cell_type": "code",
   "execution_count": 27,
   "metadata": {},
   "outputs": [],
   "source": [
    "# Fit the synthesizer to real data\n",
    "gauss_synthesizer.fit(clean_data)"
   ]
  },
  {
   "cell_type": "code",
   "execution_count": 28,
   "metadata": {},
   "outputs": [
    {
     "name": "stderr",
     "output_type": "stream",
     "text": [
      "Sampling rows: 100%|██████████| 100/100 [00:00<00:00, 760.32it/s]\n"
     ]
    }
   ],
   "source": [
    "# Generate synthetic data\n",
    "gauss_synthetic_data = gauss_synthesizer.sample(100)"
   ]
  },
  {
   "cell_type": "code",
   "execution_count": 29,
   "metadata": {},
   "outputs": [],
   "source": [
    "# Save synthetic data to CSV file\n",
    "os.makedirs(os.path.dirname(\"data/gauss_data.csv\"), exist_ok=True)\n",
    "gauss_synthetic_data.to_csv(\"data/gauss_data.csv\", index=False)"
   ]
  },
  {
   "cell_type": "code",
   "execution_count": 30,
   "metadata": {},
   "outputs": [],
   "source": [
    "# Fit the synthesizer to real data\n",
    "tvae_synthesizer.fit(clean_data)"
   ]
  },
  {
   "cell_type": "code",
   "execution_count": 31,
   "metadata": {},
   "outputs": [
    {
     "name": "stderr",
     "output_type": "stream",
     "text": [
      "Sampling rows:   0%|          | 0/100 [00:00<?, ?it/s]c:\\Users\\nbasa\\AppData\\Local\\Programs\\Python\\Python311\\Lib\\site-packages\\ctgan\\data_transformer.py:196: FutureWarning: Setting an item of incompatible dtype is deprecated and will raise in a future error of pandas. Value '[-0.00967075  0.10585242 -0.24049114 -0.38306082 -0.30715352  0.1855143\n",
      "  0.26844807  0.10007719  0.1207542   0.19553155  0.05437207  0.20476521\n",
      " -0.13554234  0.07110971  0.00190919 -0.10666125  0.44464896  0.05561612\n",
      "  0.08888733 -0.23364693 -0.09261802 -0.26220827  0.07131798  0.13479111\n",
      " -0.14908821  0.00701614  0.07594368 -0.31570651 -0.02036282 -0.10273044\n",
      " -0.04083713 -0.08224043  0.22014695 -0.1253006   0.06436819  0.28799836\n",
      "  0.2138711   0.06561034 -0.05363421  0.11051807 -0.25784844  0.09967976\n",
      "  0.36392871  0.08618446 -0.06906532  0.02146169  0.12922461  0.16130234\n",
      "  0.17501859  0.2507657  -0.29074641  0.16667663 -0.24107238  0.18836035\n",
      " -0.33968588 -0.0023842   0.08267678  0.10351596 -0.03195605  0.20180599\n",
      " -0.21605361  0.45413815  0.16556976 -0.35382471  0.31515741 -0.14171086\n",
      "  0.47839106  0.4037034   0.19566851  0.56138071  0.36962822 -0.30888235\n",
      "  0.43291852 -0.03166009  0.10960221 -0.20016758 -0.43994384 -0.05713774\n",
      " -0.26383254  0.46924447  0.12642546  0.1232959   0.46496566 -0.13151061\n",
      " -0.0950113  -0.0799969  -0.28610891  0.06204304 -0.18904669  0.47442436\n",
      " -0.05412841 -0.03926407  0.33249196 -0.06484246 -0.37937929  0.51497558\n",
      " -0.26939011  0.41710557 -0.12005166  0.29416126]' has dtype incompatible with float32, please explicitly cast to a compatible dtype first.\n",
      "  data.iloc[:, 0] = selected_normalized_value\n",
      "c:\\Users\\nbasa\\AppData\\Local\\Programs\\Python\\Python311\\Lib\\site-packages\\ctgan\\data_transformer.py:196: FutureWarning: Setting an item of incompatible dtype is deprecated and will raise in a future error of pandas. Value '[ 0.01337533  0.01288107  0.01615158 -0.0057219   0.00225535  0.00882082\n",
      " -0.00543253  0.0013347   0.00063017  0.01617103  0.02454042  0.00574384\n",
      " -0.01415517  0.0024961  -0.00158206  0.00724116  0.01301538  0.01797543\n",
      "  0.01361023 -0.014769   -0.00780684 -0.01510259  0.00250628  0.00952608\n",
      "  0.01936296  0.03807471 -0.00634324 -0.00949795 -0.00595203  0.02838233\n",
      " -0.01188404 -0.00515884  0.0177665   0.00516875  0.00928763  0.01590741\n",
      "  0.00628779  0.01074197 -0.00647477  0.00206706 -0.01525091 -0.01723874\n",
      " -0.00183872 -0.01050042 -0.00484156  0.00618952 -0.01723831  0.01054947\n",
      " -0.00416963 -0.0026209  -0.00789683 -0.00175301 -0.0142797   0.01186408\n",
      "  0.01525501  0.0083755   0.00611662 -0.0032102   0.02639626  0.00236242\n",
      " -0.01249729 -0.01484676  0.00671375  0.0010044  -0.0119186   0.01790106\n",
      " -0.01282441  0.01741006  0.00282618  0.00329125  0.00365944 -0.01736516\n",
      "  0.00249055  0.00244328  0.02197585 -0.00721585  0.00010583 -0.0017463\n",
      "  0.00594188  0.00334074 -0.02715424  0.00265395 -0.00507702  0.00187876\n",
      "  0.00754641 -0.00467275 -0.00835182  0.00210116 -0.01041466  0.00139008\n",
      " -0.00884167 -0.02091918  0.01902573 -0.00872248  0.00511962 -0.00616721\n",
      "  0.00666195 -0.01628525  0.01985018 -0.00954691]' has dtype incompatible with float32, please explicitly cast to a compatible dtype first.\n",
      "  data.iloc[:, 0] = selected_normalized_value\n",
      "c:\\Users\\nbasa\\AppData\\Local\\Programs\\Python\\Python311\\Lib\\site-packages\\ctgan\\data_transformer.py:196: FutureWarning: Setting an item of incompatible dtype is deprecated and will raise in a future error of pandas. Value '[-0.02925868  0.00565121  0.00041358 -0.01045146 -0.01452297  0.00493879\n",
      " -0.00640079 -0.01382836  0.01050285 -0.00537679  0.0193063   0.00307637\n",
      "  0.01516496 -0.00528749  0.00108485  0.02128448 -0.0051693   0.00249323\n",
      "  0.01034674 -0.00808022  0.0026173  -0.00834375 -0.01154487  0.08979543\n",
      " -0.00466363  0.0040104   0.0205728  -0.00642666  0.00353118 -0.00112314\n",
      " -0.00958831 -0.00466887 -0.00655534  0.007961    0.01298887 -0.0273169\n",
      "  0.01179744  0.00300959  0.01062633 -0.01779171  0.00317224  0.00903906\n",
      "  0.0086762  -0.00250946 -0.00912908  0.01309584 -0.00046575 -0.02175716\n",
      "  0.00089077  0.0832461  -0.00221987  0.0001825  -0.00767635  0.00126977\n",
      " -0.00047218  0.01265143  0.00482719  0.00230224 -0.00518813  0.01563042\n",
      " -0.00232748 -0.01348741 -0.0005757   0.00943131 -0.01204358  0.00087784\n",
      " -0.00783208  0.00877348 -0.02082505 -0.01369328  0.01131559 -0.01591556\n",
      " -0.00570447 -0.00563904 -0.01473666  0.0066512  -0.0034331   0.00130858\n",
      " -0.00023865  0.00492567  0.0085096  -0.0165026   0.00077466  0.00844707\n",
      " -0.00624226  0.12173482  0.0070111  -0.01495355 -0.00904391  0.00542018\n",
      " -0.01343421  0.00334603 -0.00739539 -0.0096926  -0.00173617 -0.00199605\n",
      "  0.00357137 -0.0033802   0.0085031  -0.00527394]' has dtype incompatible with float32, please explicitly cast to a compatible dtype first.\n",
      "  data.iloc[:, 0] = selected_normalized_value\n",
      "c:\\Users\\nbasa\\AppData\\Local\\Programs\\Python\\Python311\\Lib\\site-packages\\ctgan\\data_transformer.py:196: FutureWarning: Setting an item of incompatible dtype is deprecated and will raise in a future error of pandas. Value '[-8.17436166e-03 -3.28463989e-03  1.34147048e-02 -3.45510106e-03\n",
      " -4.01185889e-03  1.80631482e-02  4.17554441e-03 -2.67580839e-03\n",
      " -6.79471353e-04  1.14718822e-03 -3.02922244e-03 -3.43297859e-03\n",
      "  1.79802045e-03 -5.76730456e-03 -3.31211079e-03 -9.23481267e-03\n",
      "  3.65871249e-03 -1.52506626e-02  1.33656271e-02  4.10833248e-03\n",
      "  8.95929726e-03  2.16453677e-03 -6.38649549e-03 -4.42695678e-03\n",
      "  1.86371901e-02 -1.25401504e-02 -2.27551477e-02 -5.39551562e-04\n",
      "  2.00205839e-02  5.28025961e-03 -4.15514104e-03  5.05347247e-03\n",
      "  1.83557999e-03  1.29206321e-02  1.69205783e-03 -9.91076498e-03\n",
      "  1.07486319e-02  1.17493956e-02 -2.58843255e-03  9.28275526e-03\n",
      " -6.18027005e-03 -9.78069925e-03  3.09556790e-04  8.62657604e-03\n",
      "  5.10092270e-03  4.01037536e-03 -6.15776942e-03 -1.06177986e-02\n",
      "  9.96529594e-03  1.58255456e-01  3.78018298e-03 -2.06418046e-02\n",
      "  1.43601404e-02  1.93156167e-03 -5.16499581e-03  3.00239471e-04\n",
      "  1.97982313e-02 -4.15102192e-03  1.64527908e-02 -5.58414399e-04\n",
      "  1.02310685e-02  8.70167834e-03 -1.32701398e-02  1.44824612e-03\n",
      " -6.76933569e-03 -9.83127791e-03 -1.99017018e-03 -6.88383393e-05\n",
      "  5.47191302e-03  2.02596491e-03 -4.34668941e-03  3.67827159e-04\n",
      "  8.57392266e-03 -5.16626543e-03 -5.89151784e-03 -1.51435353e-03\n",
      "  1.84290442e-02 -2.33063833e-02 -5.95308968e-03 -1.13398720e-02\n",
      "  1.19407056e-02 -7.37234826e-03 -1.16483153e-02 -5.33117631e-03\n",
      " -4.53680398e-03  2.25236463e-01 -1.35520522e-03 -2.44391818e-03\n",
      " -6.58617737e-03  6.22108459e-03  2.87995318e-04  4.41837614e-03\n",
      " -1.35884675e-03 -1.53592186e-02  1.75594056e-03 -8.74805211e-03\n",
      " -1.64120219e-02  2.48211021e-03 -1.57828985e-03  1.95784318e-04]' has dtype incompatible with float32, please explicitly cast to a compatible dtype first.\n",
      "  data.iloc[:, 0] = selected_normalized_value\n",
      "c:\\Users\\nbasa\\AppData\\Local\\Programs\\Python\\Python311\\Lib\\site-packages\\ctgan\\data_transformer.py:196: FutureWarning: Setting an item of incompatible dtype is deprecated and will raise in a future error of pandas. Value '[ 1.40140702e-03  3.26689536e-02  1.39347912e-03  3.24876623e-03\n",
      " -9.64712676e-03  7.82149519e-03 -8.23501358e-03  3.65603099e-04\n",
      " -2.11147506e-03  1.63540505e-02  1.18352104e-02 -1.00327319e-02\n",
      "  9.71892999e-03  7.93506139e-03  1.96565524e-03 -4.03705106e-03\n",
      "  5.25015629e-03 -6.26303170e-03  4.60388708e-03 -1.96458676e-02\n",
      "  3.23109608e-03 -1.66203047e-02  6.90530976e-03  7.92414731e-02\n",
      " -1.30058996e-02  6.03289632e-03 -1.38822960e-02  4.61636351e-03\n",
      "  3.70311432e-03 -2.96663357e-02  1.15472006e-02 -6.54920289e-03\n",
      " -2.88215699e-02 -3.57879711e-03 -1.47485867e-02 -1.41941949e-02\n",
      " -5.27932963e-03 -3.76527792e-04 -9.80337927e-03  1.01191402e-04\n",
      "  1.71271190e-02 -8.43329880e-03  1.07777340e-02 -1.27726840e-03\n",
      "  7.11350444e-03 -2.47946069e-02  8.18037333e-03 -7.45902668e-03\n",
      " -2.03078609e-02  1.67870191e-01  3.42543162e-04 -2.87937692e-03\n",
      "  7.69553948e-03 -6.18266844e-03  6.62963723e-03  1.54889763e-02\n",
      " -2.05365266e-03 -8.83107910e-03 -5.77075289e-03 -3.77178589e-03\n",
      "  3.16865534e-02 -1.09880815e-02  2.31584990e-02  6.00857619e-03\n",
      " -3.64100226e-02 -1.29662613e-02 -4.45264060e-03  1.17250682e-03\n",
      "  8.55876864e-03 -4.86169475e-03 -5.19658380e-04  3.32601244e-03\n",
      " -1.43204415e-02  8.15789526e-03 -1.94330856e-03  6.32866988e-03\n",
      "  6.05797617e-03  6.37191919e-03 -9.30416425e-03  1.79060630e-02\n",
      "  9.51568396e-03 -8.71346183e-03  2.29142594e-02 -2.97201513e-03\n",
      " -1.12536729e-03  2.03523123e-01 -1.20958399e-02 -1.08985191e-02\n",
      "  1.17584013e-02 -4.21579599e-03 -1.29670292e-02 -4.27531045e-03\n",
      " -7.81277301e-03 -5.20826548e-03  1.28084540e-02 -1.61409691e-02\n",
      " -1.07987909e-02 -2.79041233e-03 -6.99312247e-03 -4.07004377e-03]' has dtype incompatible with float32, please explicitly cast to a compatible dtype first.\n",
      "  data.iloc[:, 0] = selected_normalized_value\n",
      "c:\\Users\\nbasa\\AppData\\Local\\Programs\\Python\\Python311\\Lib\\site-packages\\ctgan\\data_transformer.py:196: FutureWarning: Setting an item of incompatible dtype is deprecated and will raise in a future error of pandas. Value '[-0.01144117 -0.01117471 -0.01023237 -0.00572169  0.01748697  0.00791856\n",
      " -0.01978991 -0.0033646   0.00807823  0.00291025  0.01532467  0.01063629\n",
      " -0.01852208 -0.01240691  0.00360752 -0.00706076 -0.00197852 -0.00426698\n",
      " -0.0152465   0.00845659  0.00129193  0.00580791  0.00927754  0.12724967\n",
      "  0.00767169 -0.00916819 -0.00181616 -0.00564104  0.00353238 -0.02075893\n",
      "  0.00891644 -0.00286997 -0.01810054  0.00028978 -0.0134127  -0.01147375\n",
      "  0.01759407 -0.01082658  0.0020605   0.00043187 -0.01574875 -0.00134909\n",
      "  0.00349353 -0.00440301 -0.02513348 -0.00164088 -0.00144686  0.00349162\n",
      " -0.01207811  0.08434777 -0.00424961  0.00359419 -0.00232072  0.00465937\n",
      " -0.01109819  0.00522456 -0.00228991 -0.00505759  0.00279477 -0.00716634\n",
      " -0.02138156  0.0077441  -0.00476379  0.00910883  0.00472303 -0.00848533\n",
      " -0.00532965 -0.00462705  0.00291867 -0.01651232 -0.0047958   0.01134317\n",
      " -0.0149481   0.00571496  0.00442084 -0.01572794  0.00574104  0.00130984\n",
      "  0.00820865 -0.00412427 -0.00180138 -0.00579452 -0.01313073 -0.01902474\n",
      "  0.00379043  0.00956657  0.00767804 -0.02002526  0.01348438 -0.00320714\n",
      "  0.00549222 -0.00935465 -0.01156806  0.00802778 -0.00587609 -0.01512529\n",
      " -0.00817607  0.00301513 -0.01961807  0.01715078]' has dtype incompatible with float32, please explicitly cast to a compatible dtype first.\n",
      "  data.iloc[:, 0] = selected_normalized_value\n",
      "c:\\Users\\nbasa\\AppData\\Local\\Programs\\Python\\Python311\\Lib\\site-packages\\ctgan\\data_transformer.py:196: FutureWarning: Setting an item of incompatible dtype is deprecated and will raise in a future error of pandas. Value '[ 1.61600519e-02  1.09601518e-02 -2.30904365e-03  3.39262090e-03\n",
      " -5.98122580e-03 -5.26995266e-03  1.15460067e-02 -8.72535111e-04\n",
      " -8.63980811e-03  2.94636617e-03 -7.54634463e-03 -2.80733654e-03\n",
      "  6.20820017e-04  2.13900401e-02  4.99407802e-03 -2.66955792e-03\n",
      "  1.59365335e-02 -6.14002396e-03 -1.12401532e-02 -3.48709059e-03\n",
      "  8.28600700e-04 -2.71381529e-02  7.88270771e-03  1.38355127e-02\n",
      "  7.74242419e-03 -1.79735519e-02  2.10724434e-02  7.20973793e-03\n",
      " -1.65063171e-02  9.83590652e-03 -8.82992009e-03 -7.60463370e-03\n",
      " -1.21854366e-02  1.34898017e-02  2.03579553e-02  4.66322913e-03\n",
      "  1.16488392e-02 -9.45146358e-03 -1.74116208e-03  9.92806532e-03\n",
      " -3.65219663e-03  5.13037431e-03  1.00011934e-02 -1.44597323e-03\n",
      "  4.26933091e-03 -8.14038955e-03 -3.36497083e-03  1.07817980e-02\n",
      " -9.05710800e-04  1.35678478e-01  7.32425293e-03  3.45470945e-03\n",
      "  2.85052416e-03 -5.27299025e-03 -1.52407462e-02 -4.77169870e-03\n",
      "  1.86510490e-02 -3.87368074e-03 -1.94205310e-03 -1.55900536e-03\n",
      "  1.68480180e-02 -1.04631321e-02  1.31857233e-04 -8.85549022e-03\n",
      " -3.41436821e-03  1.29239561e-02 -1.45001944e-02  2.00180171e-03\n",
      " -6.27788276e-03  4.49917059e-03 -1.97735228e-03 -6.88170963e-03\n",
      " -4.16371291e-03  4.92022300e-03  5.54413232e-03  1.04060472e-03\n",
      " -8.58788343e-03 -1.12558255e-02  1.43613890e-02 -4.40140178e-04\n",
      "  5.99066517e-03  1.00007429e-02  5.36644662e-04  4.26114906e-03\n",
      " -1.17810862e-04  1.90781789e-03 -9.61470547e-03 -4.38328191e-03\n",
      " -2.12950391e-03  4.05850993e-03 -4.68116315e-03 -1.11616232e-02\n",
      " -1.44759484e-02  3.68266744e-03  2.59244804e-02  1.68079964e-02\n",
      " -1.11546992e-02  6.58860422e-03 -7.91773453e-03  2.20000990e-02]' has dtype incompatible with float32, please explicitly cast to a compatible dtype first.\n",
      "  data.iloc[:, 0] = selected_normalized_value\n",
      "c:\\Users\\nbasa\\AppData\\Local\\Programs\\Python\\Python311\\Lib\\site-packages\\ctgan\\data_transformer.py:196: FutureWarning: Setting an item of incompatible dtype is deprecated and will raise in a future error of pandas. Value '[-0.00246419 -0.00858358  0.00465127  0.0053855  -0.00925166 -0.01164358\n",
      "  0.00448872 -0.01259553 -0.00594252  0.01183564  0.00809231 -0.00978585\n",
      "  0.00565679 -0.00359372 -0.01599912 -0.01594694  0.01438993  0.00434263\n",
      " -0.00319758 -0.00833724  0.00091867  0.00362358 -0.00431635 -0.00321843\n",
      "  0.01740341  0.00110314  0.00150905  0.02122629  0.00573513 -0.0065785\n",
      " -0.01626119 -0.01263383  0.0019439  -0.00223478  0.01093274 -0.01258966\n",
      "  0.00321096 -0.00170866 -0.01924957  0.0127851   0.01404611  0.00096057\n",
      "  0.00543105 -0.00770385  0.01055371  0.00701529 -0.01224671  0.00599348\n",
      " -0.00520917 -0.00281541  0.01659307 -0.02222905 -0.01094842 -0.00294741\n",
      "  0.00083539 -0.0005798  -0.0149997  -0.00965759 -0.00441385  0.01040083\n",
      "  0.02118467 -0.0102901   0.01604873  0.00403031 -0.00879275 -0.00190282\n",
      " -0.00075113 -0.01431567  0.01088475 -0.00945228  0.00136419  0.01990662\n",
      "  0.00118789  0.00062646 -0.00787813  0.01716035 -0.0077244  -0.00680223\n",
      " -0.0011694  -0.00327266  0.00502841  0.01916494 -0.00460794 -0.01785947\n",
      " -0.00581758 -0.00107526  0.0125563   0.02183961  0.00169881  0.00022529\n",
      "  0.00039279 -0.00110197 -0.00864172 -0.00338231  0.00302077 -0.00617683\n",
      "  0.00178351 -0.00935385  0.00769985  0.0065097 ]' has dtype incompatible with float32, please explicitly cast to a compatible dtype first.\n",
      "  data.iloc[:, 0] = selected_normalized_value\n",
      "c:\\Users\\nbasa\\AppData\\Local\\Programs\\Python\\Python311\\Lib\\site-packages\\ctgan\\data_transformer.py:196: FutureWarning: Setting an item of incompatible dtype is deprecated and will raise in a future error of pandas. Value '[ 4.94130076e-03  4.56768065e-03 -4.69788978e-03  9.62768354e-03\n",
      "  1.10059300e-02 -2.45764177e-02  1.26038548e-02  6.34789399e-03\n",
      "  9.20788639e-03 -8.02237708e-03 -1.71248891e-02 -3.33395589e-03\n",
      " -7.49112546e-03 -1.36862497e-02 -1.07328535e-03 -1.30075729e-02\n",
      " -1.98901452e-02 -1.11586426e-02 -1.58492750e-02 -8.24465496e-03\n",
      " -4.12055646e-04  1.11415431e-02 -8.47756172e-03  5.56685299e-03\n",
      " -2.04293483e-02  4.27860983e-03  4.25175408e-03 -1.33893376e-02\n",
      "  7.34272283e-03 -8.52211891e-03 -1.60900344e-03  1.69979318e-03\n",
      "  1.71981853e-03  5.05008629e-03 -1.04408628e-02 -4.51199962e-03\n",
      " -7.18943076e-04 -1.94810059e-02 -3.33058548e-03  1.00625898e-02\n",
      " -7.23003903e-03 -1.27704299e-02 -1.51958865e-05  1.59289771e-02\n",
      " -3.48650180e-03 -2.83768716e-03 -6.61202220e-03 -1.92469778e-02\n",
      "  1.49470296e-02  5.96816912e-02  1.42866794e-02  4.13175362e-03\n",
      " -9.09298333e-04  1.32126920e-02  1.16163934e-02 -2.42259901e-02\n",
      "  2.40700506e-03 -3.83794371e-03 -1.28842163e-03  4.95879483e-03\n",
      " -7.59963891e-03  1.30942331e-02 -1.50984282e-02 -5.83864786e-03\n",
      "  5.21943504e-03 -2.14284444e-02 -1.09868304e-03 -9.06747075e-03\n",
      " -2.36626239e-03  4.66674039e-03  1.33749889e-04 -1.46771880e-02\n",
      "  3.52830970e-03  1.24811896e-03 -1.84840370e-02 -1.13691525e-02\n",
      "  6.85316389e-03 -1.81719404e-02 -1.17822125e-02 -5.07104352e-03\n",
      " -9.37717755e-03 -6.30873731e-03 -1.47249702e-02  4.42745686e-03\n",
      " -6.25821770e-03  1.28889365e-02 -1.12154130e-02 -9.34933566e-03\n",
      " -6.16276589e-03 -3.22143600e-04  4.06723772e-03 -6.29874239e-03\n",
      "  1.39347686e-02  1.45650117e-02 -9.73861228e-05 -2.38183393e-02\n",
      "  2.05650082e-02 -8.18380513e-03 -1.90930578e-02 -7.59543706e-03]' has dtype incompatible with float32, please explicitly cast to a compatible dtype first.\n",
      "  data.iloc[:, 0] = selected_normalized_value\n",
      "c:\\Users\\nbasa\\AppData\\Local\\Programs\\Python\\Python311\\Lib\\site-packages\\ctgan\\data_transformer.py:196: FutureWarning: Setting an item of incompatible dtype is deprecated and will raise in a future error of pandas. Value '[-1.18288446e-02 -3.92637673e-03 -2.07628181e-03 -1.71449096e-02\n",
      " -2.36062421e-04 -1.11004074e-04  2.28059646e-03  4.41948438e-03\n",
      " -4.27865680e-03 -1.99774011e-03  1.24498491e-02  1.22063214e-02\n",
      "  4.80949069e-03 -6.46357055e-03 -9.43241032e-03 -3.09111127e-03\n",
      "  1.08034428e-02  1.56336582e-03  1.98720932e-02 -2.26425828e-02\n",
      " -2.03371424e-02  1.05490127e-02 -8.35748525e-03 -3.63220263e-03\n",
      " -1.03282215e-02  7.05507346e-03  1.30034955e-02 -3.12604602e-04\n",
      "  6.84180425e-03  9.69746040e-03 -5.53230310e-03  1.59618915e-02\n",
      "  3.64040870e-03 -1.01701425e-02 -7.68126096e-04  2.17330469e-03\n",
      "  8.38457744e-03 -3.93399850e-03  2.24010724e-02  1.12979274e-03\n",
      " -8.07837664e-03 -8.72135253e-04  9.46623277e-03 -4.67453955e-03\n",
      "  1.31582478e-03  9.93096406e-03  9.31674463e-03  1.27696052e-02\n",
      "  1.84336023e-02  8.13736851e-03  7.99720827e-03 -2.37991934e-03\n",
      "  1.01283626e-02  1.20615535e-02  1.41509169e-02  6.41206474e-03\n",
      " -1.99291369e-03  1.68911583e-02  9.14752057e-03 -4.24674674e-03\n",
      "  1.95621570e-03  1.48873529e-02  7.01457444e-03  2.26498468e-03\n",
      " -5.14725683e-03  8.86714073e-03 -1.94786779e-03  1.61923324e-02\n",
      "  5.65837921e-03  1.22011792e-03  1.05710975e-02  4.07215056e-03\n",
      " -6.54667754e-03 -8.24473787e-03  6.27166679e-05 -9.45547484e-03\n",
      " -2.46832895e-03  1.33715053e-03 -7.70070070e-03 -2.80195346e-02\n",
      "  4.53501871e-03  8.49780884e-03  2.65698012e-04  9.14343516e-03\n",
      " -1.51937871e-03  1.14600118e-02 -4.51751148e-03  6.06429336e-03\n",
      " -4.11637120e-03  6.89188345e-04 -1.76758394e-03  3.98512539e-03\n",
      "  1.83822414e-03  3.87163069e-03  1.27545305e-02  1.77743582e-03\n",
      " -1.67097831e-03  1.27999609e-02 -1.47099576e-02 -6.58161438e-03]' has dtype incompatible with float32, please explicitly cast to a compatible dtype first.\n",
      "  data.iloc[:, 0] = selected_normalized_value\n",
      "c:\\Users\\nbasa\\AppData\\Local\\Programs\\Python\\Python311\\Lib\\site-packages\\ctgan\\data_transformer.py:196: FutureWarning: Setting an item of incompatible dtype is deprecated and will raise in a future error of pandas. Value '[ 0.00537536 -0.00808952 -0.00346088 -0.00205023 -0.00311687 -0.00561609\n",
      "  0.01019099 -0.00555621 -0.01648947 -0.02130935 -0.02044449 -0.0132846\n",
      "  0.00502703 -0.00285479 -0.00555192  0.00143284 -0.02072898 -0.00410681\n",
      "  0.02062863 -0.00713284 -0.01851793 -0.00232907 -0.00592223 -0.09614077\n",
      " -0.00223035 -0.01566362  0.02102999  0.00314008  0.00256812 -0.00110866\n",
      "  0.00406979  0.00099084 -0.00074983  0.005116    0.00556882 -0.00636999\n",
      " -0.0098925  -0.00350119 -0.00605969 -0.00315766 -0.00724195 -0.01112356\n",
      " -0.01425219 -0.0148938   0.00386625 -0.0257414  -0.00182853 -0.00429591\n",
      " -0.00910047  0.08144756  0.01408342 -0.01603746 -0.01642321 -0.01960162\n",
      " -0.00735211 -0.00459955 -0.00115977 -0.01006667  0.00500611  0.01460108\n",
      " -0.02349613  0.01474189 -0.01636646 -0.00991174 -0.00576421 -0.01349702\n",
      "  0.00116604  0.00039292  0.00077562 -0.01160187  0.00464644 -0.02101165\n",
      "  0.00162664  0.0008598  -0.00894961  0.00510109 -0.00731539  0.01099988\n",
      "  0.01220927 -0.00839257 -0.01087899 -0.01616952  0.0028681  -0.01298671\n",
      " -0.01235923  0.04162326 -0.00131527  0.01303007 -0.01823007 -0.01584926\n",
      "  0.02055236 -0.01076815 -0.00230556  0.00638607 -0.00134551  0.00754317\n",
      "  0.01233189 -0.00713327 -0.00959698 -0.00074578]' has dtype incompatible with float32, please explicitly cast to a compatible dtype first.\n",
      "  data.iloc[:, 0] = selected_normalized_value\n",
      "c:\\Users\\nbasa\\AppData\\Local\\Programs\\Python\\Python311\\Lib\\site-packages\\ctgan\\data_transformer.py:196: FutureWarning: Setting an item of incompatible dtype is deprecated and will raise in a future error of pandas. Value '[-0.14563084 -0.30037439  0.16499009 -0.22559913 -0.35512903  0.25895962\n",
      "  0.05120198 -0.46152964  0.31587255  0.08237339  0.35339779  0.23155282\n",
      "  0.34438994 -0.32314931 -0.42437259  0.58359304  0.40760668 -0.20444269\n",
      " -0.2995032  -0.2707809   0.03861922 -0.25030045 -0.15368354 -0.13283742\n",
      " -0.37722185 -0.00094692 -0.26807557  0.32687437  0.42991403 -0.40207754\n",
      "  0.16638622  0.11890718 -0.028235   -0.06462399 -0.32101368 -0.04529407\n",
      " -0.12895661  0.36218455 -0.1794169   0.37555688  0.11693175 -0.47555518\n",
      "  0.19937948 -0.00710827 -0.22877326 -0.10955242  0.09438178 -0.11334451\n",
      " -0.15673905 -0.33314459 -0.40597812 -0.36084392  0.31616276  0.32432405\n",
      " -0.16721309 -0.26252302 -0.35889458 -0.41428677 -0.45253866 -0.19833303\n",
      " -0.35755495  0.21298033 -0.1926622  -0.33739518  0.28893275 -0.05614161\n",
      " -0.27027961  0.61035085  0.5568463   0.4912092  -0.11221707 -0.09321347\n",
      " -0.38963448 -0.45761959 -0.28718687 -0.25850038  0.09827428  0.84120003\n",
      "  0.49240986  0.27181619  0.29997074 -0.02390721  0.16332449  0.46752842\n",
      " -0.00189939 -0.39457133 -0.0541454  -0.13464714 -0.42037987 -0.11925987\n",
      " -0.31744372  0.12877883 -0.50680695 -0.12190345 -0.2902863   0.15958795\n",
      " -0.14029916  0.26250247 -0.35773665  0.00868424]' has dtype incompatible with float32, please explicitly cast to a compatible dtype first.\n",
      "  data.iloc[:, 0] = selected_normalized_value\n",
      "c:\\Users\\nbasa\\AppData\\Local\\Programs\\Python\\Python311\\Lib\\site-packages\\ctgan\\data_transformer.py:196: FutureWarning: Setting an item of incompatible dtype is deprecated and will raise in a future error of pandas. Value '[ 0.00165205  0.00181587 -0.00849968 -0.02123597 -0.00380938 -0.00243664\n",
      " -0.01303915  0.01384828 -0.02359096  0.00816878  0.01527496 -0.00383074\n",
      "  0.0088213  -0.01057806 -0.00569172 -0.00619116  0.01268001  0.00614152\n",
      "  0.02424764 -0.00100808 -0.01097683  0.01719286  0.02084891  0.00213407\n",
      "  0.01380224  0.00790674 -0.01817181 -0.00879688  0.00295311  0.00579969\n",
      "  0.0163702   0.01159466 -0.00169199 -0.01769936 -0.00249088 -0.00290933\n",
      " -0.00258376  0.00487268  0.00802005 -0.01492804 -0.00412618 -0.01398268\n",
      " -0.02568255 -0.00267119  0.00752592 -0.01792577  0.00122798  0.01881647\n",
      " -0.01753261 -0.00816828  0.00201308 -0.00135457  0.01230444  0.00975225\n",
      "  0.0097801  -0.00047312  0.00081957 -0.00197887  0.00487158  0.00182466\n",
      " -0.00161703 -0.01056046 -0.0105108   0.0035946  -0.00639658 -0.00215702\n",
      "  0.00690791  0.00852051  0.00141382 -0.01012002  0.01166687  0.00463863\n",
      "  0.02006833 -0.01023663  0.00895962  0.00824158  0.00478137  0.01166355\n",
      " -0.00960671 -0.0116348   0.01049821 -0.01673115  0.00738805 -0.0067456\n",
      " -0.00757133 -0.00356772 -0.0123204  -0.0044941  -0.00017319  0.00061098\n",
      " -0.0137089  -0.00343304  0.00652958  0.01041243 -0.01159655  0.00145058\n",
      "  0.00429488  0.00531345  0.00810417 -0.00243972]' has dtype incompatible with float32, please explicitly cast to a compatible dtype first.\n",
      "  data.iloc[:, 0] = selected_normalized_value\n",
      "c:\\Users\\nbasa\\AppData\\Local\\Programs\\Python\\Python311\\Lib\\site-packages\\ctgan\\data_transformer.py:196: FutureWarning: Setting an item of incompatible dtype is deprecated and will raise in a future error of pandas. Value '[-0.00344826  0.00022661 -0.00235986 -0.01235502  0.00613132 -0.01058765\n",
      " -0.00045523  0.00562376 -0.00132772 -0.0040619  -0.00207406 -0.0087403\n",
      "  0.00594604 -0.00388767  0.00063177  0.00090881 -0.00263371 -0.00731845\n",
      " -0.00735751 -0.01471638 -0.0145654   0.0042434  -0.0023678   0.00063682\n",
      " -0.00721515  0.00100513  0.00348217  0.0054515   0.0180909   0.01562945\n",
      " -0.00441402  0.00537756 -0.00488938  0.00072747 -0.00464422  0.00094292\n",
      "  0.01896488 -0.00638805  0.00752335 -0.01402144  0.0005814   0.00992079\n",
      " -0.01720347  0.00686107  0.01183323 -0.00567711 -0.00403789  0.00422311\n",
      " -0.00225882  0.01036495 -0.00524858 -0.00639529 -0.0047356  -0.00692398\n",
      " -0.00371164 -0.00364948  0.0088445   0.00135024 -0.00232553 -0.00325304\n",
      "  0.00566278  0.01114442  0.00061568  0.01714323 -0.00212858 -0.01877998\n",
      "  0.00662125 -0.00340569  0.0147268  -0.0072623   0.00794453  0.0123697\n",
      " -0.01081124 -0.00949038 -0.02974618  0.01660359 -0.00085852  0.0153313\n",
      " -0.00859018 -0.01852375  0.02097664 -0.01026791  0.00151212 -0.01257716\n",
      " -0.00315032 -0.00960424 -0.01658859 -0.00837765 -0.00991436 -0.01559982\n",
      "  0.0113576   0.01211423  0.0135468   0.00477156 -0.01106064 -0.00516033\n",
      " -0.01371632  0.0011645   0.02757734  0.00018787]' has dtype incompatible with float32, please explicitly cast to a compatible dtype first.\n",
      "  data.iloc[:, 0] = selected_normalized_value\n",
      "c:\\Users\\nbasa\\AppData\\Local\\Programs\\Python\\Python311\\Lib\\site-packages\\ctgan\\data_transformer.py:196: FutureWarning: Setting an item of incompatible dtype is deprecated and will raise in a future error of pandas. Value '[ 0.00323809  0.00892977 -0.01440477 -0.01238271  0.00306343 -0.00908627\n",
      "  0.00226828  0.01630171 -0.00108602 -0.00259105 -0.00012742  0.00662092\n",
      " -0.01793736 -0.0156832   0.00394502 -0.00940749 -0.00453905 -0.0131053\n",
      " -0.01088345  0.02120269  0.00262463  0.00982701 -0.00455239  0.00247687\n",
      "  0.00689153  0.00448013  0.00448127  0.01995009  0.00125792 -0.00401027\n",
      "  0.01564937 -0.00682927  0.01038211  0.00860685  0.00827017  0.01328267\n",
      " -0.01414806 -0.02054699 -0.01218701  0.0037771  -0.01616318 -0.0152943\n",
      "  0.00100791  0.00823735 -0.00178762  0.01579996 -0.01998855 -0.00678747\n",
      "  0.00694197  0.01177013  0.00134518  0.0008175   0.00597235 -0.00872499\n",
      "  0.00123501  0.00651443 -0.01141182 -0.00917767  0.00851661 -0.00926128\n",
      "  0.00509658  0.01361963  0.01084969 -0.01719197  0.00823784  0.01811884\n",
      " -0.00235146  0.0026798   0.01057129  0.00170553  0.00417104  0.02883636\n",
      "  0.00448663  0.0201561   0.00162602 -0.00142856  0.01319452  0.00224687\n",
      "  0.00124017 -0.00979813 -0.00744745 -0.00181947  0.028464   -0.01849874\n",
      " -0.01830605 -0.01330548 -0.01367138  0.01469146 -0.00168595 -0.00457748\n",
      "  0.00451352 -0.01113113 -0.00988769  0.0147868   0.00405983  0.01831891\n",
      " -0.01040308  0.02234272 -0.01200812 -0.01242703]' has dtype incompatible with float32, please explicitly cast to a compatible dtype first.\n",
      "  data.iloc[:, 0] = selected_normalized_value\n",
      "c:\\Users\\nbasa\\AppData\\Local\\Programs\\Python\\Python311\\Lib\\site-packages\\ctgan\\data_transformer.py:196: FutureWarning: Setting an item of incompatible dtype is deprecated and will raise in a future error of pandas. Value '[ 7.82712660e-03 -5.03980078e-04  8.07152107e-03  1.03188491e-02\n",
      "  1.29802929e-02 -2.64527842e-03  3.34944655e-02  6.81347352e-03\n",
      " -4.22229176e-03  1.32065477e-02  1.32611065e-02 -1.67003703e-02\n",
      "  9.28275642e-03 -1.37913263e-02 -6.18348697e-03  2.57453312e-03\n",
      "  1.02112159e-02 -1.15892236e-02  2.98366328e-02  4.95395284e-03\n",
      " -3.33932554e-03 -1.16731553e-02 -1.88577671e-03 -9.93098854e-03\n",
      "  2.07593255e-02  1.15580124e-02  6.75421004e-03 -7.75655290e-03\n",
      "  5.85090118e-03  5.00104479e-03 -8.49978063e-03 -2.43436333e-04\n",
      " -1.42648677e-03 -5.61950716e-04  6.83869134e-03  9.84956308e-03\n",
      "  3.69683627e-05  3.95110122e-03  1.06333339e-02 -1.73046094e-02\n",
      " -9.11824893e-05  8.90974298e-03  1.02500530e-02 -6.47086431e-03\n",
      " -1.68206248e-03  8.63299592e-03  1.24085836e-02 -6.64546668e-03\n",
      "  7.96396430e-03 -2.51200807e-03 -1.54911043e-02  1.52055426e-03\n",
      "  3.44905151e-03 -1.73718253e-02 -7.61519997e-03  2.41571742e-03\n",
      " -8.20865102e-03 -3.51115633e-04 -1.98592953e-02 -1.52778850e-02\n",
      "  1.73676716e-02 -8.23588568e-03 -9.96443185e-03 -3.31201961e-03\n",
      " -1.08661506e-03  1.01994335e-02 -3.63228541e-03  5.91124288e-03\n",
      " -8.17123586e-03 -1.61374151e-02  1.79264281e-02  3.78828406e-03\n",
      " -8.94878910e-03  3.73444496e-03 -2.56929379e-03  1.44259846e-03\n",
      " -1.04670798e-02 -2.85279989e-02 -3.20058245e-03  9.96330231e-03\n",
      "  9.41135970e-03 -8.75535012e-03  1.51978575e-02 -5.34239671e-03\n",
      "  7.42956737e-03  1.00611293e-02  7.21566334e-03  1.47011580e-02\n",
      "  1.53269107e-02 -1.59266182e-02  1.40422780e-02 -1.78684975e-02\n",
      "  9.84282417e-03  2.48293314e-02 -2.62171897e-03  4.14778628e-03\n",
      "  2.84282936e-03 -8.57153265e-03 -1.17244088e-02 -6.87217552e-03]' has dtype incompatible with float32, please explicitly cast to a compatible dtype first.\n",
      "  data.iloc[:, 0] = selected_normalized_value\n",
      "c:\\Users\\nbasa\\AppData\\Local\\Programs\\Python\\Python311\\Lib\\site-packages\\ctgan\\data_transformer.py:196: FutureWarning: Setting an item of incompatible dtype is deprecated and will raise in a future error of pandas. Value '[ 1.20773610e-02 -1.01143768e-02 -1.01450132e-02 -1.27242023e-02\n",
      " -1.44500882e-02 -6.86708091e-03  4.41293826e-03  2.18420188e-02\n",
      "  1.53221343e-02  5.24572396e-03 -4.97232051e-03  7.67685391e-03\n",
      " -1.07374759e-02 -1.62948366e-02  9.41207393e-04 -1.54778384e-02\n",
      "  1.20601728e-02  3.37674700e-05  2.36878286e-03 -3.57193646e-03\n",
      " -5.41176085e-03  8.44580208e-04  8.33049534e-03 -8.69037849e-03\n",
      "  9.15546421e-03  6.94753045e-03 -4.77982068e-03  5.50722216e-03\n",
      " -2.74457364e-02 -9.41422842e-03 -1.03732997e-02  3.18294117e-03\n",
      " -2.00394854e-03 -4.84959452e-03 -6.09227434e-03  1.02448276e-02\n",
      "  1.05782117e-02 -5.24115807e-03 -4.91382370e-03 -2.52054017e-03\n",
      "  1.40349523e-03 -1.84342854e-02 -1.34691041e-02 -1.76385749e-04\n",
      "  3.11872669e-03  9.42714739e-04  7.40893075e-03  3.73795287e-03\n",
      " -6.55078408e-03 -1.50928967e-02  5.30462273e-03 -1.48426663e-03\n",
      " -1.56967732e-02  7.28134726e-03  8.39774938e-03 -2.52904267e-03\n",
      "  7.28125895e-03 -1.06586397e-02  8.08512547e-03 -8.42417784e-05\n",
      "  9.36922293e-03  2.39454931e-02 -2.39505248e-02 -4.87139254e-03\n",
      " -1.23653790e-02 -6.84596523e-03 -2.12682464e-03 -4.51563122e-05\n",
      " -2.98783631e-03 -8.42196520e-03 -2.26332558e-02  4.12661594e-04\n",
      " -2.35333571e-03  4.56361143e-03  7.24973779e-03 -1.14599014e-02\n",
      " -8.52754772e-03 -3.72783291e-03 -4.55332015e-03 -1.12138368e-03\n",
      "  3.90411610e-03 -1.29897608e-03  3.47741970e-03 -3.14234730e-02\n",
      " -1.32693208e-03 -2.60013351e-02 -7.47700981e-03  2.24684712e-03\n",
      "  1.25155139e-03 -3.72386449e-03 -5.47182471e-03  1.54720098e-03\n",
      " -2.04675133e-02 -1.18711773e-02 -1.85287508e-02  6.87905313e-04\n",
      " -3.67263429e-03  5.25727855e-03  3.48137926e-03  2.60122169e-03]' has dtype incompatible with float32, please explicitly cast to a compatible dtype first.\n",
      "  data.iloc[:, 0] = selected_normalized_value\n",
      "Sampling rows:  99%|█████████▉| 99/100 [00:00<00:00, 758.49it/s]c:\\Users\\nbasa\\AppData\\Local\\Programs\\Python\\Python311\\Lib\\site-packages\\ctgan\\data_transformer.py:196: FutureWarning: Setting an item of incompatible dtype is deprecated and will raise in a future error of pandas. Value '[0.21577661]' has dtype incompatible with float32, please explicitly cast to a compatible dtype first.\n",
      "  data.iloc[:, 0] = selected_normalized_value\n",
      "c:\\Users\\nbasa\\AppData\\Local\\Programs\\Python\\Python311\\Lib\\site-packages\\ctgan\\data_transformer.py:196: FutureWarning: Setting an item of incompatible dtype is deprecated and will raise in a future error of pandas. Value '[-0.00604747]' has dtype incompatible with float32, please explicitly cast to a compatible dtype first.\n",
      "  data.iloc[:, 0] = selected_normalized_value\n",
      "c:\\Users\\nbasa\\AppData\\Local\\Programs\\Python\\Python311\\Lib\\site-packages\\ctgan\\data_transformer.py:196: FutureWarning: Setting an item of incompatible dtype is deprecated and will raise in a future error of pandas. Value '[-0.01010069]' has dtype incompatible with float32, please explicitly cast to a compatible dtype first.\n",
      "  data.iloc[:, 0] = selected_normalized_value\n",
      "c:\\Users\\nbasa\\AppData\\Local\\Programs\\Python\\Python311\\Lib\\site-packages\\ctgan\\data_transformer.py:196: FutureWarning: Setting an item of incompatible dtype is deprecated and will raise in a future error of pandas. Value '[0.00440268]' has dtype incompatible with float32, please explicitly cast to a compatible dtype first.\n",
      "  data.iloc[:, 0] = selected_normalized_value\n",
      "c:\\Users\\nbasa\\AppData\\Local\\Programs\\Python\\Python311\\Lib\\site-packages\\ctgan\\data_transformer.py:196: FutureWarning: Setting an item of incompatible dtype is deprecated and will raise in a future error of pandas. Value '[0.00825775]' has dtype incompatible with float32, please explicitly cast to a compatible dtype first.\n",
      "  data.iloc[:, 0] = selected_normalized_value\n",
      "c:\\Users\\nbasa\\AppData\\Local\\Programs\\Python\\Python311\\Lib\\site-packages\\ctgan\\data_transformer.py:196: FutureWarning: Setting an item of incompatible dtype is deprecated and will raise in a future error of pandas. Value '[0.00050341]' has dtype incompatible with float32, please explicitly cast to a compatible dtype first.\n",
      "  data.iloc[:, 0] = selected_normalized_value\n",
      "c:\\Users\\nbasa\\AppData\\Local\\Programs\\Python\\Python311\\Lib\\site-packages\\ctgan\\data_transformer.py:196: FutureWarning: Setting an item of incompatible dtype is deprecated and will raise in a future error of pandas. Value '[-0.0038031]' has dtype incompatible with float32, please explicitly cast to a compatible dtype first.\n",
      "  data.iloc[:, 0] = selected_normalized_value\n",
      "c:\\Users\\nbasa\\AppData\\Local\\Programs\\Python\\Python311\\Lib\\site-packages\\ctgan\\data_transformer.py:196: FutureWarning: Setting an item of incompatible dtype is deprecated and will raise in a future error of pandas. Value '[-0.01796344]' has dtype incompatible with float32, please explicitly cast to a compatible dtype first.\n",
      "  data.iloc[:, 0] = selected_normalized_value\n",
      "c:\\Users\\nbasa\\AppData\\Local\\Programs\\Python\\Python311\\Lib\\site-packages\\ctgan\\data_transformer.py:196: FutureWarning: Setting an item of incompatible dtype is deprecated and will raise in a future error of pandas. Value '[0.00363893]' has dtype incompatible with float32, please explicitly cast to a compatible dtype first.\n",
      "  data.iloc[:, 0] = selected_normalized_value\n",
      "c:\\Users\\nbasa\\AppData\\Local\\Programs\\Python\\Python311\\Lib\\site-packages\\ctgan\\data_transformer.py:196: FutureWarning: Setting an item of incompatible dtype is deprecated and will raise in a future error of pandas. Value '[-0.01309218]' has dtype incompatible with float32, please explicitly cast to a compatible dtype first.\n",
      "  data.iloc[:, 0] = selected_normalized_value\n",
      "c:\\Users\\nbasa\\AppData\\Local\\Programs\\Python\\Python311\\Lib\\site-packages\\ctgan\\data_transformer.py:196: FutureWarning: Setting an item of incompatible dtype is deprecated and will raise in a future error of pandas. Value '[0.01016421]' has dtype incompatible with float32, please explicitly cast to a compatible dtype first.\n",
      "  data.iloc[:, 0] = selected_normalized_value\n",
      "c:\\Users\\nbasa\\AppData\\Local\\Programs\\Python\\Python311\\Lib\\site-packages\\ctgan\\data_transformer.py:196: FutureWarning: Setting an item of incompatible dtype is deprecated and will raise in a future error of pandas. Value '[-0.12828196]' has dtype incompatible with float32, please explicitly cast to a compatible dtype first.\n",
      "  data.iloc[:, 0] = selected_normalized_value\n",
      "c:\\Users\\nbasa\\AppData\\Local\\Programs\\Python\\Python311\\Lib\\site-packages\\ctgan\\data_transformer.py:196: FutureWarning: Setting an item of incompatible dtype is deprecated and will raise in a future error of pandas. Value '[0.01019778]' has dtype incompatible with float32, please explicitly cast to a compatible dtype first.\n",
      "  data.iloc[:, 0] = selected_normalized_value\n",
      "c:\\Users\\nbasa\\AppData\\Local\\Programs\\Python\\Python311\\Lib\\site-packages\\ctgan\\data_transformer.py:196: FutureWarning: Setting an item of incompatible dtype is deprecated and will raise in a future error of pandas. Value '[0.00626081]' has dtype incompatible with float32, please explicitly cast to a compatible dtype first.\n",
      "  data.iloc[:, 0] = selected_normalized_value\n",
      "c:\\Users\\nbasa\\AppData\\Local\\Programs\\Python\\Python311\\Lib\\site-packages\\ctgan\\data_transformer.py:196: FutureWarning: Setting an item of incompatible dtype is deprecated and will raise in a future error of pandas. Value '[-0.00190302]' has dtype incompatible with float32, please explicitly cast to a compatible dtype first.\n",
      "  data.iloc[:, 0] = selected_normalized_value\n",
      "c:\\Users\\nbasa\\AppData\\Local\\Programs\\Python\\Python311\\Lib\\site-packages\\ctgan\\data_transformer.py:196: FutureWarning: Setting an item of incompatible dtype is deprecated and will raise in a future error of pandas. Value '[0.00399224]' has dtype incompatible with float32, please explicitly cast to a compatible dtype first.\n",
      "  data.iloc[:, 0] = selected_normalized_value\n",
      "c:\\Users\\nbasa\\AppData\\Local\\Programs\\Python\\Python311\\Lib\\site-packages\\ctgan\\data_transformer.py:196: FutureWarning: Setting an item of incompatible dtype is deprecated and will raise in a future error of pandas. Value '[-0.01192644]' has dtype incompatible with float32, please explicitly cast to a compatible dtype first.\n",
      "  data.iloc[:, 0] = selected_normalized_value\n",
      "Sampling rows: 100%|██████████| 100/100 [00:00<00:00, 395.16it/s]\n"
     ]
    }
   ],
   "source": [
    "# Generate synthetic data\n",
    "tvae_synthetic_data = tvae_synthesizer.sample(100)"
   ]
  },
  {
   "cell_type": "code",
   "execution_count": 32,
   "metadata": {},
   "outputs": [],
   "source": [
    "# Save synthetic data to CSV file\n",
    "os.makedirs(os.path.dirname(\"data/tvae_data.csv\"), exist_ok=True)\n",
    "tvae_synthetic_data.to_csv(\"data/tvae_data.csv\", index=False)"
   ]
  },
  {
   "cell_type": "code",
   "execution_count": 33,
   "metadata": {},
   "outputs": [
    {
     "name": "stderr",
     "output_type": "stream",
     "text": [
      "Gen. (-0.02) | Discrim. (-0.34): 100%|██████████| 1000/1000 [14:41<00:00,  1.13it/s]\n"
     ]
    }
   ],
   "source": [
    "# Fit the synthesizer to real data\n",
    "cop_synthesizer.fit(clean_data)"
   ]
  },
  {
   "cell_type": "code",
   "execution_count": 34,
   "metadata": {},
   "outputs": [
    {
     "name": "stderr",
     "output_type": "stream",
     "text": [
      "Sampling rows: 100%|██████████| 100/100 [00:00<00:00, 323.26it/s]\n"
     ]
    }
   ],
   "source": [
    "cop_synthetic_data = cop_synthesizer.sample(100)"
   ]
  },
  {
   "cell_type": "code",
   "execution_count": 35,
   "metadata": {},
   "outputs": [],
   "source": [
    "# Save synthetic data to CSV file\n",
    "os.makedirs(os.path.dirname(\"data/cop_synthetic_data.csv\"), exist_ok=True)\n",
    "cop_synthetic_data.to_csv(\"data/cop_synthetic_data.csv\", index=False)"
   ]
  },
  {
   "cell_type": "markdown",
   "metadata": {},
   "source": [
    "##### Evaluation"
   ]
  },
  {
   "cell_type": "code",
   "execution_count": 36,
   "metadata": {},
   "outputs": [
    {
     "name": "stdout",
     "output_type": "stream",
     "text": [
      "Generating report ...\n",
      "\n",
      "(1/2) Evaluating Data Validity: |██████████| 20/20 [00:00<00:00, 1052.58it/s]|\n",
      "Data Validity Score: 100.0%\n",
      "\n",
      "(2/2) Evaluating Data Structure: |██████████| 1/1 [00:00<00:00, 500.10it/s]|\n",
      "Data Structure Score: 100.0%\n",
      "\n",
      "Overall Score (Average): 100.0%\n",
      "\n"
     ]
    }
   ],
   "source": [
    "# Run diagnostic and evaluate quality\n",
    "diagnostic = run_diagnostic(real_data=clean_data, synthetic_data=ctgan_synthetic_data, metadata=metadata)"
   ]
  },
  {
   "cell_type": "code",
   "execution_count": 37,
   "metadata": {},
   "outputs": [
    {
     "name": "stdout",
     "output_type": "stream",
     "text": [
      "Generating report ...\n",
      "\n",
      "(1/2) Evaluating Column Shapes: |██████████| 20/20 [00:00<00:00, 579.25it/s]|\n",
      "Column Shapes Score: 91.32%\n",
      "\n",
      "(2/2) Evaluating Column Pair Trends: |██████████| 190/190 [00:01<00:00, 149.60it/s]|\n",
      "Column Pair Trends Score: 73.15%\n",
      "\n",
      "Overall Score (Average): 82.23%\n",
      "\n"
     ]
    }
   ],
   "source": [
    "quality_report = evaluate_quality(real_data=clean_data, synthetic_data=ctgan_synthetic_data, metadata=metadata)"
   ]
  },
  {
   "cell_type": "code",
   "execution_count": 38,
   "metadata": {},
   "outputs": [
    {
     "name": "stdout",
     "output_type": "stream",
     "text": [
      "Generating report ...\n",
      "\n",
      "(1/2) Evaluating Data Validity: |██████████| 20/20 [00:00<00:00, 1250.07it/s]|\n",
      "Data Validity Score: 100.0%\n",
      "\n",
      "(2/2) Evaluating Data Structure: |██████████| 1/1 [00:00<00:00, 1000.07it/s]|\n",
      "Data Structure Score: 100.0%\n",
      "\n",
      "Overall Score (Average): 100.0%\n",
      "\n"
     ]
    }
   ],
   "source": [
    "# Run diagnostic and evaluate quality\n",
    "diagnostic = run_diagnostic(real_data=clean_data, synthetic_data=tvae_synthetic_data, metadata=metadata)"
   ]
  },
  {
   "cell_type": "code",
   "execution_count": 39,
   "metadata": {},
   "outputs": [
    {
     "name": "stdout",
     "output_type": "stream",
     "text": [
      "Generating report ...\n",
      "\n",
      "(1/2) Evaluating Column Shapes: |██████████| 20/20 [00:00<00:00, 487.82it/s]|\n",
      "Column Shapes Score: 91.51%\n",
      "\n",
      "(2/2) Evaluating Column Pair Trends: |██████████| 190/190 [00:01<00:00, 152.43it/s]|\n",
      "Column Pair Trends Score: 69.25%\n",
      "\n",
      "Overall Score (Average): 80.38%\n",
      "\n"
     ]
    }
   ],
   "source": [
    "quality_report = evaluate_quality(real_data=clean_data, synthetic_data=tvae_synthetic_data, metadata=metadata)"
   ]
  },
  {
   "cell_type": "code",
   "execution_count": 40,
   "metadata": {},
   "outputs": [
    {
     "name": "stdout",
     "output_type": "stream",
     "text": [
      "Generating report ...\n",
      "\n",
      "(1/2) Evaluating Data Validity: |██████████| 20/20 [00:00<00:00, 1176.41it/s]|\n",
      "Data Validity Score: 100.0%\n",
      "\n",
      "(2/2) Evaluating Data Structure: |██████████| 1/1 [00:00<00:00, 996.98it/s]|\n",
      "Data Structure Score: 100.0%\n",
      "\n",
      "Overall Score (Average): 100.0%\n",
      "\n"
     ]
    }
   ],
   "source": [
    "# Run diagnostic and evaluate quality\n",
    "diagnostic = run_diagnostic(real_data=clean_data, synthetic_data=gauss_synthetic_data, metadata=metadata)"
   ]
  },
  {
   "cell_type": "code",
   "execution_count": 41,
   "metadata": {},
   "outputs": [
    {
     "name": "stdout",
     "output_type": "stream",
     "text": [
      "Generating report ...\n",
      "\n",
      "(1/2) Evaluating Column Shapes: |██████████| 20/20 [00:00<00:00, 481.56it/s]|\n",
      "Column Shapes Score: 82.21%\n",
      "\n",
      "(2/2) Evaluating Column Pair Trends: |██████████| 190/190 [00:01<00:00, 143.19it/s]|\n",
      "Column Pair Trends Score: 69.98%\n",
      "\n",
      "Overall Score (Average): 76.09%\n",
      "\n"
     ]
    }
   ],
   "source": [
    "quality_report = evaluate_quality(real_data=clean_data, synthetic_data=gauss_synthetic_data, metadata=metadata)"
   ]
  },
  {
   "cell_type": "code",
   "execution_count": 42,
   "metadata": {},
   "outputs": [
    {
     "name": "stdout",
     "output_type": "stream",
     "text": [
      "Generating report ...\n",
      "\n",
      "(1/2) Evaluating Data Validity: |██████████| 20/20 [00:00<00:00, 952.23it/s]|\n",
      "Data Validity Score: 100.0%\n",
      "\n",
      "(2/2) Evaluating Data Structure: |██████████| 1/1 [00:00<00:00, 333.15it/s]|\n",
      "Data Structure Score: 100.0%\n",
      "\n",
      "Overall Score (Average): 100.0%\n",
      "\n"
     ]
    }
   ],
   "source": [
    "# Run diagnostic and evaluate quality\n",
    "diagnostic = run_diagnostic(real_data=clean_data, synthetic_data=cop_synthetic_data, metadata=metadata)"
   ]
  },
  {
   "cell_type": "code",
   "execution_count": 43,
   "metadata": {},
   "outputs": [
    {
     "name": "stdout",
     "output_type": "stream",
     "text": [
      "Generating report ...\n",
      "\n",
      "(1/2) Evaluating Column Shapes: |██████████| 20/20 [00:00<00:00, 512.85it/s]|\n",
      "Column Shapes Score: 83.74%\n",
      "\n",
      "(2/2) Evaluating Column Pair Trends: |██████████| 190/190 [00:01<00:00, 126.25it/s]|\n",
      "Column Pair Trends Score: 75.73%\n",
      "\n",
      "Overall Score (Average): 79.73%\n",
      "\n"
     ]
    }
   ],
   "source": [
    "quality_report = evaluate_quality(real_data=clean_data, synthetic_data=cop_synthetic_data, metadata=metadata)"
   ]
  }
 ],
 "metadata": {
  "kernelspec": {
   "display_name": "Python 3",
   "language": "python",
   "name": "python3"
  },
  "language_info": {
   "codemirror_mode": {
    "name": "ipython",
    "version": 3
   },
   "file_extension": ".py",
   "mimetype": "text/x-python",
   "name": "python",
   "nbconvert_exporter": "python",
   "pygments_lexer": "ipython3",
   "version": "3.11.5"
  }
 },
 "nbformat": 4,
 "nbformat_minor": 2
}
